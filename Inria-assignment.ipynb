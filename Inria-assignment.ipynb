{
 "cells": [
  {
   "cell_type": "markdown",
   "metadata": {},
   "source": [
    "##  Importing data and packages"
   ]
  },
  {
   "cell_type": "code",
   "execution_count": 103,
   "metadata": {},
   "outputs": [],
   "source": [
    "# Importing libraries\n",
    "import pandas as pd\n",
    "from sqlalchemy import create_engine\n",
    "import numpy as np\n",
    "from datetime import datetime\n",
    "import matplotlib.pyplot as plt\n",
    "import seaborn as sns\n",
    "from scipy import stats\n",
    "import ipytest\n",
    "ipytest.autoconfig()\n",
    "\n",
    "import warnings\n",
    "warnings.filterwarnings('ignore')"
   ]
  },
  {
   "cell_type": "code",
   "execution_count": 104,
   "metadata": {},
   "outputs": [],
   "source": [
    "# Reading data drom database\n",
    "engine = create_engine('sqlite:///data.db', echo=False)\n",
    "con = engine.connect()\n",
    "df_patient = pd.read_sql('select * from patient', con=con)\n",
    "df_pcr = pd.read_sql('select * from test', con=con)\n",
    "con.close()"
   ]
  },
  {
   "cell_type": "markdown",
   "metadata": {},
   "source": [
    "## Data exploratory and cleaning\n",
    " \n",
    "**1. Patient Data**\n",
    "\n",
    "**2. Pcr Data**\n",
    "\n",
    "**3. Joining Patient data with Pcr data**\n",
    "\n",
    "**4. Detecting and removing duplicates**"
   ]
  },
  {
   "cell_type": "markdown",
   "metadata": {},
   "source": [
    "### 1.  Patient Data"
   ]
  },
  {
   "cell_type": "code",
   "execution_count": 105,
   "metadata": {},
   "outputs": [
    {
     "data": {
      "text/html": [
       "<div>\n",
       "<style scoped>\n",
       "    .dataframe tbody tr th:only-of-type {\n",
       "        vertical-align: middle;\n",
       "    }\n",
       "\n",
       "    .dataframe tbody tr th {\n",
       "        vertical-align: top;\n",
       "    }\n",
       "\n",
       "    .dataframe thead th {\n",
       "        text-align: right;\n",
       "    }\n",
       "</style>\n",
       "<table border=\"1\" class=\"dataframe\">\n",
       "  <thead>\n",
       "    <tr style=\"text-align: right;\">\n",
       "      <th></th>\n",
       "      <th>patient_id</th>\n",
       "      <th>given_name</th>\n",
       "      <th>surname</th>\n",
       "      <th>street_number</th>\n",
       "      <th>address_1</th>\n",
       "      <th>suburb</th>\n",
       "      <th>postcode</th>\n",
       "      <th>state</th>\n",
       "      <th>date_of_birth</th>\n",
       "      <th>age</th>\n",
       "      <th>phone_number</th>\n",
       "      <th>address_2</th>\n",
       "    </tr>\n",
       "  </thead>\n",
       "  <tbody>\n",
       "    <tr>\n",
       "      <th>0</th>\n",
       "      <td>221958</td>\n",
       "      <td>matisse</td>\n",
       "      <td>clarke</td>\n",
       "      <td>13.0</td>\n",
       "      <td>rene street</td>\n",
       "      <td>ellenbrook</td>\n",
       "      <td>2527</td>\n",
       "      <td>wa</td>\n",
       "      <td>19710708.0</td>\n",
       "      <td>32.0</td>\n",
       "      <td>08 86018809</td>\n",
       "      <td>westella</td>\n",
       "    </tr>\n",
       "    <tr>\n",
       "      <th>1</th>\n",
       "      <td>771155</td>\n",
       "      <td>joshua</td>\n",
       "      <td>elrick</td>\n",
       "      <td>23.0</td>\n",
       "      <td>andrea place</td>\n",
       "      <td>east preston</td>\n",
       "      <td>2074</td>\n",
       "      <td>nsw</td>\n",
       "      <td>19120921.0</td>\n",
       "      <td>34.0</td>\n",
       "      <td>02 97793152</td>\n",
       "      <td>foxdown</td>\n",
       "    </tr>\n",
       "    <tr>\n",
       "      <th>2</th>\n",
       "      <td>231932</td>\n",
       "      <td>alice</td>\n",
       "      <td>conboy</td>\n",
       "      <td>35.0</td>\n",
       "      <td>mountain circuit</td>\n",
       "      <td>prospect</td>\n",
       "      <td>2305</td>\n",
       "      <td>nsw</td>\n",
       "      <td>19810905.0</td>\n",
       "      <td>22.0</td>\n",
       "      <td>02 20403934</td>\n",
       "      <td>None</td>\n",
       "    </tr>\n",
       "    <tr>\n",
       "      <th>3</th>\n",
       "      <td>465838</td>\n",
       "      <td>sienna</td>\n",
       "      <td>craswell</td>\n",
       "      <td>39.0</td>\n",
       "      <td>cumberlegeicrescent</td>\n",
       "      <td>henty</td>\n",
       "      <td>3620</td>\n",
       "      <td>wa</td>\n",
       "      <td>19840809.0</td>\n",
       "      <td>30.0</td>\n",
       "      <td>02 62832318</td>\n",
       "      <td>jodane</td>\n",
       "    </tr>\n",
       "    <tr>\n",
       "      <th>4</th>\n",
       "      <td>359178</td>\n",
       "      <td>joshua</td>\n",
       "      <td>bastiaans</td>\n",
       "      <td>144.0</td>\n",
       "      <td>lowrie street</td>\n",
       "      <td>campbell town</td>\n",
       "      <td>4051</td>\n",
       "      <td>nsw</td>\n",
       "      <td>19340430.0</td>\n",
       "      <td>31.0</td>\n",
       "      <td>03 69359594</td>\n",
       "      <td>None</td>\n",
       "    </tr>\n",
       "  </tbody>\n",
       "</table>\n",
       "</div>"
      ],
      "text/plain": [
       "   patient_id given_name    surname  street_number            address_1  \\\n",
       "0      221958    matisse     clarke           13.0          rene street   \n",
       "1      771155     joshua     elrick           23.0         andrea place   \n",
       "2      231932      alice     conboy           35.0     mountain circuit   \n",
       "3      465838     sienna   craswell           39.0  cumberlegeicrescent   \n",
       "4      359178     joshua  bastiaans          144.0        lowrie street   \n",
       "\n",
       "          suburb postcode state  date_of_birth   age phone_number address_2  \n",
       "0     ellenbrook     2527    wa     19710708.0  32.0  08 86018809  westella  \n",
       "1   east preston     2074   nsw     19120921.0  34.0  02 97793152   foxdown  \n",
       "2       prospect     2305   nsw     19810905.0  22.0  02 20403934      None  \n",
       "3          henty     3620    wa     19840809.0  30.0  02 62832318    jodane  \n",
       "4  campbell town     4051   nsw     19340430.0  31.0  03 69359594      None  "
      ]
     },
     "execution_count": 105,
     "metadata": {},
     "output_type": "execute_result"
    }
   ],
   "source": [
    "df_patient.head()"
   ]
  },
  {
   "cell_type": "code",
   "execution_count": 106,
   "metadata": {},
   "outputs": [
    {
     "data": {
      "text/plain": [
       "(20000, 12)"
      ]
     },
     "execution_count": 106,
     "metadata": {},
     "output_type": "execute_result"
    }
   ],
   "source": [
    "# Patient dataset dimensions - (rows, columns)\n",
    "df_patient.shape"
   ]
  },
  {
   "cell_type": "code",
   "execution_count": 107,
   "metadata": {},
   "outputs": [
    {
     "name": "stdout",
     "output_type": "stream",
     "text": [
      "<class 'pandas.core.frame.DataFrame'>\n",
      "RangeIndex: 20000 entries, 0 to 19999\n",
      "Data columns (total 12 columns):\n",
      " #   Column         Non-Null Count  Dtype  \n",
      "---  ------         --------------  -----  \n",
      " 0   patient_id     20000 non-null  int64  \n",
      " 1   given_name     19560 non-null  object \n",
      " 2   surname        19575 non-null  object \n",
      " 3   street_number  19618 non-null  float64\n",
      " 4   address_1      19204 non-null  object \n",
      " 5   suburb         19788 non-null  object \n",
      " 6   postcode       19801 non-null  object \n",
      " 7   state          18010 non-null  object \n",
      " 8   date_of_birth  17989 non-null  float64\n",
      " 9   age            16003 non-null  float64\n",
      " 10  phone_number   19081 non-null  object \n",
      " 11  address_2      7893 non-null   object \n",
      "dtypes: float64(3), int64(1), object(8)\n",
      "memory usage: 1.8+ MB\n"
     ]
    }
   ],
   "source": [
    "# Patient Features data-type\n",
    "df_patient.info()"
   ]
  },
  {
   "cell_type": "code",
   "execution_count": 108,
   "metadata": {},
   "outputs": [
    {
     "data": {
      "text/plain": [
       "patient_id           0\n",
       "given_name         440\n",
       "surname            425\n",
       "street_number      382\n",
       "address_1          796\n",
       "suburb             212\n",
       "postcode           199\n",
       "state             1990\n",
       "date_of_birth     2011\n",
       "age               3997\n",
       "phone_number       919\n",
       "address_2        12107\n",
       "dtype: int64"
      ]
     },
     "execution_count": 108,
     "metadata": {},
     "output_type": "execute_result"
    }
   ],
   "source": [
    "# Count of null values for patient dataset\n",
    "df_patient.isnull().sum()"
   ]
  },
  {
   "cell_type": "code",
   "execution_count": 109,
   "metadata": {},
   "outputs": [],
   "source": [
    "# Remove null values for patient dataset\n",
    "df_patient=df_patient.dropna()"
   ]
  },
  {
   "cell_type": "code",
   "execution_count": 110,
   "metadata": {},
   "outputs": [
    {
     "data": {
      "text/plain": [
       "patient_id       0\n",
       "given_name       0\n",
       "surname          0\n",
       "street_number    0\n",
       "address_1        0\n",
       "suburb           0\n",
       "postcode         0\n",
       "state            0\n",
       "date_of_birth    0\n",
       "age              0\n",
       "phone_number     0\n",
       "address_2        0\n",
       "dtype: int64"
      ]
     },
     "execution_count": 110,
     "metadata": {},
     "output_type": "execute_result"
    }
   ],
   "source": [
    "# Count of null values for patient dataset after removing null values\n",
    "df_patient.isnull().sum()"
   ]
  },
  {
   "cell_type": "code",
   "execution_count": 111,
   "metadata": {},
   "outputs": [],
   "source": [
    "# Convert the 'postcode' from object to an integer \n",
    "df_patient['postcode']=df_patient['postcode'].astype('int')\n"
   ]
  },
  {
   "cell_type": "code",
   "execution_count": 112,
   "metadata": {},
   "outputs": [],
   "source": [
    "# Convert the 'age' from float to an integer \n",
    "df_patient['age']=df_patient['age'].astype('int')"
   ]
  },
  {
   "cell_type": "code",
   "execution_count": 113,
   "metadata": {},
   "outputs": [],
   "source": [
    "# Convert the 'street_number' from float to an integer \n",
    "df_patient['street_number']=df_patient['street_number'].astype('int')"
   ]
  },
  {
   "cell_type": "code",
   "execution_count": 114,
   "metadata": {
    "scrolled": true
   },
   "outputs": [],
   "source": [
    "# Convert the 'date_of_birth' to date format\n",
    "df_patient['date_of_birth'] = pd.to_datetime(df_patient['date_of_birth'],format='%Y%m%d', errors='ignore')"
   ]
  },
  {
   "cell_type": "code",
   "execution_count": 115,
   "metadata": {},
   "outputs": [
    {
     "data": {
      "text/html": [
       "<div>\n",
       "<style scoped>\n",
       "    .dataframe tbody tr th:only-of-type {\n",
       "        vertical-align: middle;\n",
       "    }\n",
       "\n",
       "    .dataframe tbody tr th {\n",
       "        vertical-align: top;\n",
       "    }\n",
       "\n",
       "    .dataframe thead th {\n",
       "        text-align: right;\n",
       "    }\n",
       "</style>\n",
       "<table border=\"1\" class=\"dataframe\">\n",
       "  <thead>\n",
       "    <tr style=\"text-align: right;\">\n",
       "      <th></th>\n",
       "      <th>count</th>\n",
       "      <th>mean</th>\n",
       "      <th>std</th>\n",
       "      <th>min</th>\n",
       "      <th>25%</th>\n",
       "      <th>50%</th>\n",
       "      <th>75%</th>\n",
       "      <th>max</th>\n",
       "    </tr>\n",
       "  </thead>\n",
       "  <tbody>\n",
       "    <tr>\n",
       "      <th>patient_id</th>\n",
       "      <td>4267.0</td>\n",
       "      <td>5.550803e+05</td>\n",
       "      <td>257565.248768</td>\n",
       "      <td>100126.0</td>\n",
       "      <td>334593.5</td>\n",
       "      <td>560828.0</td>\n",
       "      <td>776466.0</td>\n",
       "      <td>999607.0</td>\n",
       "    </tr>\n",
       "    <tr>\n",
       "      <th>street_number</th>\n",
       "      <td>4267.0</td>\n",
       "      <td>8.427068e+01</td>\n",
       "      <td>657.290756</td>\n",
       "      <td>0.0</td>\n",
       "      <td>10.0</td>\n",
       "      <td>25.0</td>\n",
       "      <td>59.0</td>\n",
       "      <td>39430.0</td>\n",
       "    </tr>\n",
       "    <tr>\n",
       "      <th>postcode</th>\n",
       "      <td>4267.0</td>\n",
       "      <td>3.664084e+03</td>\n",
       "      <td>1414.489014</td>\n",
       "      <td>800.0</td>\n",
       "      <td>2480.0</td>\n",
       "      <td>3186.0</td>\n",
       "      <td>4567.0</td>\n",
       "      <td>7470.0</td>\n",
       "    </tr>\n",
       "    <tr>\n",
       "      <th>date_of_birth</th>\n",
       "      <td>4267.0</td>\n",
       "      <td>1.950159e+07</td>\n",
       "      <td>285134.460327</td>\n",
       "      <td>19000119.0</td>\n",
       "      <td>19260301.0</td>\n",
       "      <td>19510305.0</td>\n",
       "      <td>19750412.5</td>\n",
       "      <td>19991213.0</td>\n",
       "    </tr>\n",
       "    <tr>\n",
       "      <th>age</th>\n",
       "      <td>4267.0</td>\n",
       "      <td>2.755214e+01</td>\n",
       "      <td>7.752820</td>\n",
       "      <td>1.0</td>\n",
       "      <td>24.0</td>\n",
       "      <td>29.0</td>\n",
       "      <td>32.0</td>\n",
       "      <td>92.0</td>\n",
       "    </tr>\n",
       "  </tbody>\n",
       "</table>\n",
       "</div>"
      ],
      "text/plain": [
       "                count          mean            std         min         25%  \\\n",
       "patient_id     4267.0  5.550803e+05  257565.248768    100126.0    334593.5   \n",
       "street_number  4267.0  8.427068e+01     657.290756         0.0        10.0   \n",
       "postcode       4267.0  3.664084e+03    1414.489014       800.0      2480.0   \n",
       "date_of_birth  4267.0  1.950159e+07  285134.460327  19000119.0  19260301.0   \n",
       "age            4267.0  2.755214e+01       7.752820         1.0        24.0   \n",
       "\n",
       "                      50%         75%         max  \n",
       "patient_id       560828.0    776466.0    999607.0  \n",
       "street_number        25.0        59.0     39430.0  \n",
       "postcode           3186.0      4567.0      7470.0  \n",
       "date_of_birth  19510305.0  19750412.5  19991213.0  \n",
       "age                  29.0        32.0        92.0  "
      ]
     },
     "execution_count": 115,
     "metadata": {},
     "output_type": "execute_result"
    }
   ],
   "source": [
    "# Statistical summary for patient data\n",
    "df_patient.describe().T"
   ]
  },
  {
   "cell_type": "code",
   "execution_count": 116,
   "metadata": {},
   "outputs": [
    {
     "data": {
      "text/html": [
       "<div>\n",
       "<style scoped>\n",
       "    .dataframe tbody tr th:only-of-type {\n",
       "        vertical-align: middle;\n",
       "    }\n",
       "\n",
       "    .dataframe tbody tr th {\n",
       "        vertical-align: top;\n",
       "    }\n",
       "\n",
       "    .dataframe thead th {\n",
       "        text-align: right;\n",
       "    }\n",
       "</style>\n",
       "<table border=\"1\" class=\"dataframe\">\n",
       "  <thead>\n",
       "    <tr style=\"text-align: right;\">\n",
       "      <th></th>\n",
       "      <th>given_name</th>\n",
       "      <th>surname</th>\n",
       "      <th>address_1</th>\n",
       "      <th>suburb</th>\n",
       "      <th>state</th>\n",
       "      <th>phone_number</th>\n",
       "      <th>address_2</th>\n",
       "    </tr>\n",
       "  </thead>\n",
       "  <tbody>\n",
       "    <tr>\n",
       "      <th>count</th>\n",
       "      <td>4267</td>\n",
       "      <td>4267</td>\n",
       "      <td>4267</td>\n",
       "      <td>4267</td>\n",
       "      <td>4267</td>\n",
       "      <td>4267</td>\n",
       "      <td>4267</td>\n",
       "    </tr>\n",
       "    <tr>\n",
       "      <th>unique</th>\n",
       "      <td>802</td>\n",
       "      <td>1639</td>\n",
       "      <td>2235</td>\n",
       "      <td>1550</td>\n",
       "      <td>33</td>\n",
       "      <td>4063</td>\n",
       "      <td>2438</td>\n",
       "    </tr>\n",
       "    <tr>\n",
       "      <th>top</th>\n",
       "      <td>emiily</td>\n",
       "      <td>white</td>\n",
       "      <td>paul coe crescent</td>\n",
       "      <td>toowoomba</td>\n",
       "      <td>nsw</td>\n",
       "      <td>03 36305891</td>\n",
       "      <td>brentwood vlge</td>\n",
       "    </tr>\n",
       "    <tr>\n",
       "      <th>freq</th>\n",
       "      <td>84</td>\n",
       "      <td>108</td>\n",
       "      <td>14</td>\n",
       "      <td>37</td>\n",
       "      <td>1516</td>\n",
       "      <td>4</td>\n",
       "      <td>55</td>\n",
       "    </tr>\n",
       "  </tbody>\n",
       "</table>\n",
       "</div>"
      ],
      "text/plain": [
       "       given_name surname          address_1     suburb state phone_number  \\\n",
       "count        4267    4267               4267       4267  4267         4267   \n",
       "unique        802    1639               2235       1550    33         4063   \n",
       "top        emiily   white  paul coe crescent  toowoomba   nsw  03 36305891   \n",
       "freq           84     108                 14         37  1516            4   \n",
       "\n",
       "             address_2  \n",
       "count             4267  \n",
       "unique            2438  \n",
       "top     brentwood vlge  \n",
       "freq                55  "
      ]
     },
     "execution_count": 116,
     "metadata": {},
     "output_type": "execute_result"
    }
   ],
   "source": [
    "df_patient.describe(include=['O'])"
   ]
  },
  {
   "cell_type": "code",
   "execution_count": 117,
   "metadata": {},
   "outputs": [
    {
     "data": {
      "text/plain": [
       "4257"
      ]
     },
     "execution_count": 117,
     "metadata": {},
     "output_type": "execute_result"
    }
   ],
   "source": [
    "# Count 'patient_id' unique values\n",
    "df_patient[\"patient_id\"].nunique()"
   ]
  },
  {
   "cell_type": "code",
   "execution_count": 118,
   "metadata": {},
   "outputs": [
    {
     "data": {
      "text/plain": [
       "721781    2\n",
       "535564    2\n",
       "289139    2\n",
       "751176    2\n",
       "328071    2\n",
       "         ..\n",
       "748843    1\n",
       "754986    1\n",
       "842627    1\n",
       "214310    1\n",
       "229909    1\n",
       "Name: patient_id, Length: 4257, dtype: int64"
      ]
     },
     "execution_count": 118,
     "metadata": {},
     "output_type": "execute_result"
    }
   ],
   "source": [
    "# List 'patient_id' unique values's count\n",
    "df_patient[\"patient_id\"].value_counts()"
   ]
  },
  {
   "cell_type": "code",
   "execution_count": 119,
   "metadata": {},
   "outputs": [
    {
     "data": {
      "text/plain": [
       "33"
      ]
     },
     "execution_count": 119,
     "metadata": {},
     "output_type": "execute_result"
    }
   ],
   "source": [
    "# Count 'state' unique values\n",
    "df_patient[\"state\"].nunique()"
   ]
  },
  {
   "cell_type": "code",
   "execution_count": 120,
   "metadata": {},
   "outputs": [
    {
     "data": {
      "text/plain": [
       "nsw     1516\n",
       "vic     1027\n",
       "qld      821\n",
       "wa       378\n",
       "sa       297\n",
       "tas      116\n",
       "act       48\n",
       "nt        38\n",
       "nsc        2\n",
       "nsd        1\n",
       "qls        1\n",
       "nfw        1\n",
       "qlr        1\n",
       "nsa        1\n",
       "ta         1\n",
       "nsjh       1\n",
       "qle        1\n",
       "ai         1\n",
       "qod        1\n",
       "nss        1\n",
       "vq         1\n",
       "tab        1\n",
       "nssw       1\n",
       "ndw        1\n",
       "nsew       1\n",
       "nfsw       1\n",
       "vif        1\n",
       "nsn        1\n",
       "vcci       1\n",
       "nsxw       1\n",
       "ns         1\n",
       "nsgs       1\n",
       "vie        1\n",
       "Name: state, dtype: int64"
      ]
     },
     "execution_count": 120,
     "metadata": {},
     "output_type": "execute_result"
    }
   ],
   "source": [
    "# List 'state' unique values's count\n",
    "df_patient[\"state\"].value_counts()"
   ]
  },
  {
   "cell_type": "code",
   "execution_count": 121,
   "metadata": {},
   "outputs": [
    {
     "data": {
      "text/plain": [
       "4063"
      ]
     },
     "execution_count": 121,
     "metadata": {},
     "output_type": "execute_result"
    }
   ],
   "source": [
    "# Count 'phone_number' unique values\n",
    "df_patient[\"phone_number\"].nunique()"
   ]
  },
  {
   "cell_type": "code",
   "execution_count": 122,
   "metadata": {},
   "outputs": [
    {
     "data": {
      "text/plain": [
       "03 36305891    4\n",
       "07 31638236    4\n",
       "03 74582010    4\n",
       "03 10035431    4\n",
       "04 86949335    4\n",
       "              ..\n",
       "08 60039118    1\n",
       "03 68928086    1\n",
       "04 36792627    1\n",
       "08 24580545    1\n",
       "08 10671239    1\n",
       "Name: phone_number, Length: 4063, dtype: int64"
      ]
     },
     "execution_count": 122,
     "metadata": {},
     "output_type": "execute_result"
    }
   ],
   "source": [
    "# List 'phone_number' unique values's count\n",
    "df_patient[\"phone_number\"].value_counts()"
   ]
  },
  {
   "cell_type": "markdown",
   "metadata": {},
   "source": [
    "### 2. Pcr Data"
   ]
  },
  {
   "cell_type": "code",
   "execution_count": 123,
   "metadata": {},
   "outputs": [
    {
     "data": {
      "text/html": [
       "<div>\n",
       "<style scoped>\n",
       "    .dataframe tbody tr th:only-of-type {\n",
       "        vertical-align: middle;\n",
       "    }\n",
       "\n",
       "    .dataframe tbody tr th {\n",
       "        vertical-align: top;\n",
       "    }\n",
       "\n",
       "    .dataframe thead th {\n",
       "        text-align: right;\n",
       "    }\n",
       "</style>\n",
       "<table border=\"1\" class=\"dataframe\">\n",
       "  <thead>\n",
       "    <tr style=\"text-align: right;\">\n",
       "      <th></th>\n",
       "      <th>patient_id</th>\n",
       "      <th>pcr</th>\n",
       "    </tr>\n",
       "  </thead>\n",
       "  <tbody>\n",
       "    <tr>\n",
       "      <th>0</th>\n",
       "      <td>653091</td>\n",
       "      <td>N</td>\n",
       "    </tr>\n",
       "    <tr>\n",
       "      <th>1</th>\n",
       "      <td>347667</td>\n",
       "      <td>Negative</td>\n",
       "    </tr>\n",
       "    <tr>\n",
       "      <th>2</th>\n",
       "      <td>708481</td>\n",
       "      <td>Positive</td>\n",
       "    </tr>\n",
       "    <tr>\n",
       "      <th>3</th>\n",
       "      <td>148825</td>\n",
       "      <td>Negative</td>\n",
       "    </tr>\n",
       "    <tr>\n",
       "      <th>4</th>\n",
       "      <td>150081</td>\n",
       "      <td>Negative</td>\n",
       "    </tr>\n",
       "  </tbody>\n",
       "</table>\n",
       "</div>"
      ],
      "text/plain": [
       "   patient_id       pcr\n",
       "0      653091         N\n",
       "1      347667  Negative\n",
       "2      708481  Positive\n",
       "3      148825  Negative\n",
       "4      150081  Negative"
      ]
     },
     "execution_count": 123,
     "metadata": {},
     "output_type": "execute_result"
    }
   ],
   "source": [
    "# Pcr dataset dimensions - (rows, columns)\n",
    "df_pcr.head()"
   ]
  },
  {
   "cell_type": "code",
   "execution_count": 124,
   "metadata": {},
   "outputs": [
    {
     "data": {
      "text/plain": [
       "(8800, 2)"
      ]
     },
     "execution_count": 124,
     "metadata": {},
     "output_type": "execute_result"
    }
   ],
   "source": [
    "# Pcr Dataset dimensions - (rows, columns)\n",
    "df_pcr.shape"
   ]
  },
  {
   "cell_type": "code",
   "execution_count": 125,
   "metadata": {},
   "outputs": [
    {
     "name": "stdout",
     "output_type": "stream",
     "text": [
      "<class 'pandas.core.frame.DataFrame'>\n",
      "RangeIndex: 8800 entries, 0 to 8799\n",
      "Data columns (total 2 columns):\n",
      " #   Column      Non-Null Count  Dtype \n",
      "---  ------      --------------  ----- \n",
      " 0   patient_id  8800 non-null   int64 \n",
      " 1   pcr         8800 non-null   object\n",
      "dtypes: int64(1), object(1)\n",
      "memory usage: 137.6+ KB\n"
     ]
    }
   ],
   "source": [
    "# Pcr Features data-type\n",
    "df_pcr.info()"
   ]
  },
  {
   "cell_type": "code",
   "execution_count": 126,
   "metadata": {},
   "outputs": [
    {
     "data": {
      "text/plain": [
       "patient_id    0\n",
       "pcr           0\n",
       "dtype: int64"
      ]
     },
     "execution_count": 126,
     "metadata": {},
     "output_type": "execute_result"
    }
   ],
   "source": [
    "# Count of null values for pcr dataset\n",
    "df_pcr.isnull().sum()"
   ]
  },
  {
   "cell_type": "code",
   "execution_count": 127,
   "metadata": {},
   "outputs": [
    {
     "data": {
      "text/html": [
       "<div>\n",
       "<style scoped>\n",
       "    .dataframe tbody tr th:only-of-type {\n",
       "        vertical-align: middle;\n",
       "    }\n",
       "\n",
       "    .dataframe tbody tr th {\n",
       "        vertical-align: top;\n",
       "    }\n",
       "\n",
       "    .dataframe thead th {\n",
       "        text-align: right;\n",
       "    }\n",
       "</style>\n",
       "<table border=\"1\" class=\"dataframe\">\n",
       "  <thead>\n",
       "    <tr style=\"text-align: right;\">\n",
       "      <th></th>\n",
       "      <th>count</th>\n",
       "      <th>mean</th>\n",
       "      <th>std</th>\n",
       "      <th>min</th>\n",
       "      <th>25%</th>\n",
       "      <th>50%</th>\n",
       "      <th>75%</th>\n",
       "      <th>max</th>\n",
       "    </tr>\n",
       "  </thead>\n",
       "  <tbody>\n",
       "    <tr>\n",
       "      <th>patient_id</th>\n",
       "      <td>8800.0</td>\n",
       "      <td>554175.918977</td>\n",
       "      <td>259491.9595</td>\n",
       "      <td>100037.0</td>\n",
       "      <td>331553.0</td>\n",
       "      <td>556969.0</td>\n",
       "      <td>778063.75</td>\n",
       "      <td>999993.0</td>\n",
       "    </tr>\n",
       "  </tbody>\n",
       "</table>\n",
       "</div>"
      ],
      "text/plain": [
       "             count           mean          std       min       25%       50%  \\\n",
       "patient_id  8800.0  554175.918977  259491.9595  100037.0  331553.0  556969.0   \n",
       "\n",
       "                  75%       max  \n",
       "patient_id  778063.75  999993.0  "
      ]
     },
     "execution_count": 127,
     "metadata": {},
     "output_type": "execute_result"
    }
   ],
   "source": [
    "# Statistical summary for pcr \n",
    "df_pcr.describe().T"
   ]
  },
  {
   "cell_type": "code",
   "execution_count": 128,
   "metadata": {},
   "outputs": [
    {
     "data": {
      "text/html": [
       "<div>\n",
       "<style scoped>\n",
       "    .dataframe tbody tr th:only-of-type {\n",
       "        vertical-align: middle;\n",
       "    }\n",
       "\n",
       "    .dataframe tbody tr th {\n",
       "        vertical-align: top;\n",
       "    }\n",
       "\n",
       "    .dataframe thead th {\n",
       "        text-align: right;\n",
       "    }\n",
       "</style>\n",
       "<table border=\"1\" class=\"dataframe\">\n",
       "  <thead>\n",
       "    <tr style=\"text-align: right;\">\n",
       "      <th></th>\n",
       "      <th>pcr</th>\n",
       "    </tr>\n",
       "  </thead>\n",
       "  <tbody>\n",
       "    <tr>\n",
       "      <th>count</th>\n",
       "      <td>8800</td>\n",
       "    </tr>\n",
       "    <tr>\n",
       "      <th>unique</th>\n",
       "      <td>4</td>\n",
       "    </tr>\n",
       "    <tr>\n",
       "      <th>top</th>\n",
       "      <td>N</td>\n",
       "    </tr>\n",
       "    <tr>\n",
       "      <th>freq</th>\n",
       "      <td>3482</td>\n",
       "    </tr>\n",
       "  </tbody>\n",
       "</table>\n",
       "</div>"
      ],
      "text/plain": [
       "         pcr\n",
       "count   8800\n",
       "unique     4\n",
       "top        N\n",
       "freq    3482"
      ]
     },
     "execution_count": 128,
     "metadata": {},
     "output_type": "execute_result"
    }
   ],
   "source": [
    "df_pcr.describe(include=['O'])"
   ]
  },
  {
   "cell_type": "code",
   "execution_count": 129,
   "metadata": {},
   "outputs": [
    {
     "data": {
      "text/plain": [
       "4"
      ]
     },
     "execution_count": 129,
     "metadata": {},
     "output_type": "execute_result"
    }
   ],
   "source": [
    "# Count unique values for pcr\n",
    "df_pcr['pcr'].nunique()"
   ]
  },
  {
   "cell_type": "code",
   "execution_count": 130,
   "metadata": {},
   "outputs": [
    {
     "data": {
      "text/plain": [
       "N           3482\n",
       "Negative    3134\n",
       "Positive    1283\n",
       "P            901\n",
       "Name: pcr, dtype: int64"
      ]
     },
     "execution_count": 130,
     "metadata": {},
     "output_type": "execute_result"
    }
   ],
   "source": [
    "# List unique values's count for pcr\n",
    "df_pcr['pcr'].value_counts()"
   ]
  },
  {
   "cell_type": "code",
   "execution_count": 131,
   "metadata": {},
   "outputs": [
    {
     "data": {
      "text/html": [
       "<div>\n",
       "<style scoped>\n",
       "    .dataframe tbody tr th:only-of-type {\n",
       "        vertical-align: middle;\n",
       "    }\n",
       "\n",
       "    .dataframe tbody tr th {\n",
       "        vertical-align: top;\n",
       "    }\n",
       "\n",
       "    .dataframe thead th {\n",
       "        text-align: right;\n",
       "    }\n",
       "</style>\n",
       "<table border=\"1\" class=\"dataframe\">\n",
       "  <thead>\n",
       "    <tr style=\"text-align: right;\">\n",
       "      <th></th>\n",
       "      <th>pcr</th>\n",
       "    </tr>\n",
       "  </thead>\n",
       "  <tbody>\n",
       "    <tr>\n",
       "      <th>count</th>\n",
       "      <td>8800</td>\n",
       "    </tr>\n",
       "    <tr>\n",
       "      <th>unique</th>\n",
       "      <td>2</td>\n",
       "    </tr>\n",
       "    <tr>\n",
       "      <th>top</th>\n",
       "      <td>Negative</td>\n",
       "    </tr>\n",
       "    <tr>\n",
       "      <th>freq</th>\n",
       "      <td>6616</td>\n",
       "    </tr>\n",
       "  </tbody>\n",
       "</table>\n",
       "</div>"
      ],
      "text/plain": [
       "             pcr\n",
       "count       8800\n",
       "unique         2\n",
       "top     Negative\n",
       "freq        6616"
      ]
     },
     "execution_count": 131,
     "metadata": {},
     "output_type": "execute_result"
    }
   ],
   "source": [
    "# Replace 'N' and 'P' values with 'Negative' and 'Positive'\n",
    "df_pcr['pcr'] = df_pcr['pcr'].replace(['N'],'Negative')\n",
    "df_pcr['pcr'] = df_pcr['pcr'].replace(['P'],'Positive')\n",
    "df_pcr.describe(include=['O'])"
   ]
  },
  {
   "cell_type": "markdown",
   "metadata": {},
   "source": [
    "### 3.  Joining the Patient data with Pcr data"
   ]
  },
  {
   "cell_type": "code",
   "execution_count": 132,
   "metadata": {},
   "outputs": [],
   "source": [
    "# Joining the tables on 'patient id'\n",
    "df=df_patient.join(df_pcr.set_index('patient_id'),on='patient_id')"
   ]
  },
  {
   "cell_type": "code",
   "execution_count": 133,
   "metadata": {},
   "outputs": [
    {
     "data": {
      "text/html": [
       "<div>\n",
       "<style scoped>\n",
       "    .dataframe tbody tr th:only-of-type {\n",
       "        vertical-align: middle;\n",
       "    }\n",
       "\n",
       "    .dataframe tbody tr th {\n",
       "        vertical-align: top;\n",
       "    }\n",
       "\n",
       "    .dataframe thead th {\n",
       "        text-align: right;\n",
       "    }\n",
       "</style>\n",
       "<table border=\"1\" class=\"dataframe\">\n",
       "  <thead>\n",
       "    <tr style=\"text-align: right;\">\n",
       "      <th></th>\n",
       "      <th>patient_id</th>\n",
       "      <th>given_name</th>\n",
       "      <th>surname</th>\n",
       "      <th>street_number</th>\n",
       "      <th>address_1</th>\n",
       "      <th>suburb</th>\n",
       "      <th>postcode</th>\n",
       "      <th>state</th>\n",
       "      <th>date_of_birth</th>\n",
       "      <th>age</th>\n",
       "      <th>phone_number</th>\n",
       "      <th>address_2</th>\n",
       "      <th>pcr</th>\n",
       "    </tr>\n",
       "  </thead>\n",
       "  <tbody>\n",
       "    <tr>\n",
       "      <th>0</th>\n",
       "      <td>221958</td>\n",
       "      <td>matisse</td>\n",
       "      <td>clarke</td>\n",
       "      <td>13</td>\n",
       "      <td>rene street</td>\n",
       "      <td>ellenbrook</td>\n",
       "      <td>2527</td>\n",
       "      <td>wa</td>\n",
       "      <td>19710708</td>\n",
       "      <td>32</td>\n",
       "      <td>08 86018809</td>\n",
       "      <td>westella</td>\n",
       "      <td>NaN</td>\n",
       "    </tr>\n",
       "    <tr>\n",
       "      <th>1</th>\n",
       "      <td>771155</td>\n",
       "      <td>joshua</td>\n",
       "      <td>elrick</td>\n",
       "      <td>23</td>\n",
       "      <td>andrea place</td>\n",
       "      <td>east preston</td>\n",
       "      <td>2074</td>\n",
       "      <td>nsw</td>\n",
       "      <td>19120921</td>\n",
       "      <td>34</td>\n",
       "      <td>02 97793152</td>\n",
       "      <td>foxdown</td>\n",
       "      <td>Negative</td>\n",
       "    </tr>\n",
       "    <tr>\n",
       "      <th>3</th>\n",
       "      <td>465838</td>\n",
       "      <td>sienna</td>\n",
       "      <td>craswell</td>\n",
       "      <td>39</td>\n",
       "      <td>cumberlegeicrescent</td>\n",
       "      <td>henty</td>\n",
       "      <td>3620</td>\n",
       "      <td>wa</td>\n",
       "      <td>19840809</td>\n",
       "      <td>30</td>\n",
       "      <td>02 62832318</td>\n",
       "      <td>jodane</td>\n",
       "      <td>NaN</td>\n",
       "    </tr>\n",
       "    <tr>\n",
       "      <th>7</th>\n",
       "      <td>832180</td>\n",
       "      <td>jack</td>\n",
       "      <td>renfrey</td>\n",
       "      <td>27</td>\n",
       "      <td>osmand street</td>\n",
       "      <td>maribyrnong</td>\n",
       "      <td>2170</td>\n",
       "      <td>qld</td>\n",
       "      <td>19610518</td>\n",
       "      <td>31</td>\n",
       "      <td>03 15575583</td>\n",
       "      <td>dhurringill</td>\n",
       "      <td>Positive</td>\n",
       "    </tr>\n",
       "    <tr>\n",
       "      <th>20</th>\n",
       "      <td>421879</td>\n",
       "      <td>callum</td>\n",
       "      <td>nicolle</td>\n",
       "      <td>2</td>\n",
       "      <td>mcleod place</td>\n",
       "      <td>walgett</td>\n",
       "      <td>2144</td>\n",
       "      <td>nsw</td>\n",
       "      <td>19340319</td>\n",
       "      <td>25</td>\n",
       "      <td>03 79802023</td>\n",
       "      <td>marella</td>\n",
       "      <td>NaN</td>\n",
       "    </tr>\n",
       "  </tbody>\n",
       "</table>\n",
       "</div>"
      ],
      "text/plain": [
       "    patient_id given_name   surname  street_number            address_1  \\\n",
       "0       221958    matisse    clarke             13          rene street   \n",
       "1       771155     joshua    elrick             23         andrea place   \n",
       "3       465838     sienna  craswell             39  cumberlegeicrescent   \n",
       "7       832180       jack   renfrey             27        osmand street   \n",
       "20      421879     callum   nicolle              2         mcleod place   \n",
       "\n",
       "          suburb  postcode state  date_of_birth  age phone_number  \\\n",
       "0     ellenbrook      2527    wa       19710708   32  08 86018809   \n",
       "1   east preston      2074   nsw       19120921   34  02 97793152   \n",
       "3          henty      3620    wa       19840809   30  02 62832318   \n",
       "7    maribyrnong      2170   qld       19610518   31  03 15575583   \n",
       "20       walgett      2144   nsw       19340319   25  03 79802023   \n",
       "\n",
       "      address_2       pcr  \n",
       "0      westella       NaN  \n",
       "1       foxdown  Negative  \n",
       "3        jodane       NaN  \n",
       "7   dhurringill  Positive  \n",
       "20      marella       NaN  "
      ]
     },
     "execution_count": 133,
     "metadata": {},
     "output_type": "execute_result"
    }
   ],
   "source": [
    "df.head()"
   ]
  },
  {
   "cell_type": "code",
   "execution_count": 134,
   "metadata": {},
   "outputs": [
    {
     "data": {
      "text/plain": [
       "(4288, 13)"
      ]
     },
     "execution_count": 134,
     "metadata": {},
     "output_type": "execute_result"
    }
   ],
   "source": [
    "# Dataset dimensions - (rows, columns)\n",
    "df.shape"
   ]
  },
  {
   "cell_type": "code",
   "execution_count": 135,
   "metadata": {},
   "outputs": [
    {
     "data": {
      "text/plain": [
       "patient_id          0\n",
       "given_name          0\n",
       "surname             0\n",
       "street_number       0\n",
       "address_1           0\n",
       "suburb              0\n",
       "postcode            0\n",
       "state               0\n",
       "date_of_birth       0\n",
       "age                 0\n",
       "phone_number        0\n",
       "address_2           0\n",
       "pcr              2392\n",
       "dtype: int64"
      ]
     },
     "execution_count": 135,
     "metadata": {},
     "output_type": "execute_result"
    }
   ],
   "source": [
    "# Count of null values \n",
    "df.isnull().sum()"
   ]
  },
  {
   "cell_type": "code",
   "execution_count": 136,
   "metadata": {},
   "outputs": [],
   "source": [
    "# Remove null values \n",
    "df=df.dropna()"
   ]
  },
  {
   "cell_type": "code",
   "execution_count": 137,
   "metadata": {},
   "outputs": [
    {
     "data": {
      "text/plain": [
       "patient_id       0\n",
       "given_name       0\n",
       "surname          0\n",
       "street_number    0\n",
       "address_1        0\n",
       "suburb           0\n",
       "postcode         0\n",
       "state            0\n",
       "date_of_birth    0\n",
       "age              0\n",
       "phone_number     0\n",
       "address_2        0\n",
       "pcr              0\n",
       "dtype: int64"
      ]
     },
     "execution_count": 137,
     "metadata": {},
     "output_type": "execute_result"
    }
   ],
   "source": [
    "# Count of null values \n",
    "df.isnull().sum()"
   ]
  },
  {
   "cell_type": "code",
   "execution_count": 138,
   "metadata": {},
   "outputs": [
    {
     "data": {
      "text/plain": [
       "(1896, 13)"
      ]
     },
     "execution_count": 138,
     "metadata": {},
     "output_type": "execute_result"
    }
   ],
   "source": [
    "# Dataset dimensions - (rows, columns)\n",
    "df.shape"
   ]
  },
  {
   "cell_type": "code",
   "execution_count": 139,
   "metadata": {},
   "outputs": [
    {
     "data": {
      "text/plain": [
       "1869"
      ]
     },
     "execution_count": 139,
     "metadata": {},
     "output_type": "execute_result"
    }
   ],
   "source": [
    "# Count 'patient_id' unique values\n",
    "df[\"patient_id\"].nunique()"
   ]
  },
  {
   "cell_type": "markdown",
   "metadata": {},
   "source": [
    "On Observe que le nombre des 'patient id' uniques qui existe est different de nombre des lignes du dataframe, ce qui signifie l'existence de certains 'patient_id' dupliqués.  "
   ]
  },
  {
   "cell_type": "code",
   "execution_count": 141,
   "metadata": {},
   "outputs": [
    {
     "data": {
      "text/plain": [
       "1829"
      ]
     },
     "execution_count": 141,
     "metadata": {},
     "output_type": "execute_result"
    }
   ],
   "source": [
    "# Count 'phone_number' unique values\n",
    "df[\"phone_number\"].nunique()"
   ]
  },
  {
   "cell_type": "markdown",
   "metadata": {},
   "source": [
    "On Observe que le nombre des 'phone_number' uniques qui existe est different de nombre des lignes du dataframe, ce qui signifie l'existence de certains 'phone_number' dupliqués."
   ]
  },
  {
   "cell_type": "code",
   "execution_count": 142,
   "metadata": {},
   "outputs": [
    {
     "data": {
      "text/html": [
       "<div>\n",
       "<style scoped>\n",
       "    .dataframe tbody tr th:only-of-type {\n",
       "        vertical-align: middle;\n",
       "    }\n",
       "\n",
       "    .dataframe tbody tr th {\n",
       "        vertical-align: top;\n",
       "    }\n",
       "\n",
       "    .dataframe thead th {\n",
       "        text-align: right;\n",
       "    }\n",
       "</style>\n",
       "<table border=\"1\" class=\"dataframe\">\n",
       "  <thead>\n",
       "    <tr style=\"text-align: right;\">\n",
       "      <th></th>\n",
       "      <th>patient_id</th>\n",
       "      <th>given_name</th>\n",
       "      <th>surname</th>\n",
       "      <th>street_number</th>\n",
       "      <th>address_1</th>\n",
       "      <th>suburb</th>\n",
       "      <th>postcode</th>\n",
       "      <th>state</th>\n",
       "      <th>date_of_birth</th>\n",
       "      <th>age</th>\n",
       "      <th>phone_number</th>\n",
       "      <th>address_2</th>\n",
       "      <th>pcr</th>\n",
       "    </tr>\n",
       "  </thead>\n",
       "  <tbody>\n",
       "    <tr>\n",
       "      <th>1</th>\n",
       "      <td>771155</td>\n",
       "      <td>joshua</td>\n",
       "      <td>elrick</td>\n",
       "      <td>23</td>\n",
       "      <td>andrea place</td>\n",
       "      <td>east preston</td>\n",
       "      <td>2074</td>\n",
       "      <td>nsw</td>\n",
       "      <td>19120921</td>\n",
       "      <td>34</td>\n",
       "      <td>02 97793152</td>\n",
       "      <td>foxdown</td>\n",
       "      <td>Negative</td>\n",
       "    </tr>\n",
       "    <tr>\n",
       "      <th>7</th>\n",
       "      <td>832180</td>\n",
       "      <td>jack</td>\n",
       "      <td>renfrey</td>\n",
       "      <td>27</td>\n",
       "      <td>osmand street</td>\n",
       "      <td>maribyrnong</td>\n",
       "      <td>2170</td>\n",
       "      <td>qld</td>\n",
       "      <td>19610518</td>\n",
       "      <td>31</td>\n",
       "      <td>03 15575583</td>\n",
       "      <td>dhurringill</td>\n",
       "      <td>Positive</td>\n",
       "    </tr>\n",
       "    <tr>\n",
       "      <th>65</th>\n",
       "      <td>517113</td>\n",
       "      <td>trey</td>\n",
       "      <td>glass</td>\n",
       "      <td>27</td>\n",
       "      <td>mugga way</td>\n",
       "      <td>carnegie</td>\n",
       "      <td>5093</td>\n",
       "      <td>nsw</td>\n",
       "      <td>19180715</td>\n",
       "      <td>21</td>\n",
       "      <td>08 08091408</td>\n",
       "      <td>blackridge flyfishing school</td>\n",
       "      <td>Negative</td>\n",
       "    </tr>\n",
       "    <tr>\n",
       "      <th>74</th>\n",
       "      <td>996942</td>\n",
       "      <td>zachary</td>\n",
       "      <td>piazza</td>\n",
       "      <td>772</td>\n",
       "      <td>beaney street</td>\n",
       "      <td>manunda</td>\n",
       "      <td>2223</td>\n",
       "      <td>sa</td>\n",
       "      <td>19750703</td>\n",
       "      <td>25</td>\n",
       "      <td>02 36108470</td>\n",
       "      <td>rsd frareen</td>\n",
       "      <td>Negative</td>\n",
       "    </tr>\n",
       "    <tr>\n",
       "      <th>92</th>\n",
       "      <td>323165</td>\n",
       "      <td>taylor</td>\n",
       "      <td>binns</td>\n",
       "      <td>2</td>\n",
       "      <td>dunbar street</td>\n",
       "      <td>mount annan</td>\n",
       "      <td>4455</td>\n",
       "      <td>wa</td>\n",
       "      <td>19000509</td>\n",
       "      <td>11</td>\n",
       "      <td>08 99185004</td>\n",
       "      <td>sec 528</td>\n",
       "      <td>Negative</td>\n",
       "    </tr>\n",
       "  </tbody>\n",
       "</table>\n",
       "</div>"
      ],
      "text/plain": [
       "    patient_id given_name  surname  street_number      address_1  \\\n",
       "1       771155     joshua   elrick             23   andrea place   \n",
       "7       832180       jack  renfrey             27  osmand street   \n",
       "65      517113       trey    glass             27      mugga way   \n",
       "74      996942    zachary   piazza            772  beaney street   \n",
       "92      323165     taylor    binns              2  dunbar street   \n",
       "\n",
       "          suburb  postcode state  date_of_birth  age phone_number  \\\n",
       "1   east preston      2074   nsw       19120921   34  02 97793152   \n",
       "7    maribyrnong      2170   qld       19610518   31  03 15575583   \n",
       "65      carnegie      5093   nsw       19180715   21  08 08091408   \n",
       "74       manunda      2223    sa       19750703   25  02 36108470   \n",
       "92   mount annan      4455    wa       19000509   11  08 99185004   \n",
       "\n",
       "                       address_2       pcr  \n",
       "1                        foxdown  Negative  \n",
       "7                    dhurringill  Positive  \n",
       "65  blackridge flyfishing school  Negative  \n",
       "74                   rsd frareen  Negative  \n",
       "92                       sec 528  Negative  "
      ]
     },
     "execution_count": 142,
     "metadata": {},
     "output_type": "execute_result"
    }
   ],
   "source": [
    "df.head()"
   ]
  },
  {
   "cell_type": "code",
   "execution_count": 143,
   "metadata": {},
   "outputs": [
    {
     "data": {
      "text/html": [
       "<div>\n",
       "<style scoped>\n",
       "    .dataframe tbody tr th:only-of-type {\n",
       "        vertical-align: middle;\n",
       "    }\n",
       "\n",
       "    .dataframe tbody tr th {\n",
       "        vertical-align: top;\n",
       "    }\n",
       "\n",
       "    .dataframe thead th {\n",
       "        text-align: right;\n",
       "    }\n",
       "</style>\n",
       "<table border=\"1\" class=\"dataframe\">\n",
       "  <thead>\n",
       "    <tr style=\"text-align: right;\">\n",
       "      <th></th>\n",
       "      <th>patient_id</th>\n",
       "      <th>count</th>\n",
       "    </tr>\n",
       "  </thead>\n",
       "  <tbody>\n",
       "    <tr>\n",
       "      <th>138</th>\n",
       "      <td>169519</td>\n",
       "      <td>2</td>\n",
       "    </tr>\n",
       "    <tr>\n",
       "      <th>229</th>\n",
       "      <td>227309</td>\n",
       "      <td>2</td>\n",
       "    </tr>\n",
       "    <tr>\n",
       "      <th>240</th>\n",
       "      <td>231458</td>\n",
       "      <td>2</td>\n",
       "    </tr>\n",
       "    <tr>\n",
       "      <th>346</th>\n",
       "      <td>289139</td>\n",
       "      <td>2</td>\n",
       "    </tr>\n",
       "    <tr>\n",
       "      <th>435</th>\n",
       "      <td>328071</td>\n",
       "      <td>4</td>\n",
       "    </tr>\n",
       "  </tbody>\n",
       "</table>\n",
       "</div>"
      ],
      "text/plain": [
       "     patient_id  count\n",
       "138      169519      2\n",
       "229      227309      2\n",
       "240      231458      2\n",
       "346      289139      2\n",
       "435      328071      4"
      ]
     },
     "execution_count": 143,
     "metadata": {},
     "output_type": "execute_result"
    }
   ],
   "source": [
    "# Listing duplicated \"patient_id\"\n",
    "test_id=df.pivot_table(index = ['patient_id'], aggfunc ='size').reset_index()\n",
    "test_id.columns=['patient_id','count']\n",
    "test_id[test_id['count']>1].head()"
   ]
  },
  {
   "cell_type": "code",
   "execution_count": 144,
   "metadata": {},
   "outputs": [
    {
     "data": {
      "text/html": [
       "<div>\n",
       "<style scoped>\n",
       "    .dataframe tbody tr th:only-of-type {\n",
       "        vertical-align: middle;\n",
       "    }\n",
       "\n",
       "    .dataframe tbody tr th {\n",
       "        vertical-align: top;\n",
       "    }\n",
       "\n",
       "    .dataframe thead th {\n",
       "        text-align: right;\n",
       "    }\n",
       "</style>\n",
       "<table border=\"1\" class=\"dataframe\">\n",
       "  <thead>\n",
       "    <tr style=\"text-align: right;\">\n",
       "      <th></th>\n",
       "      <th>patient_id</th>\n",
       "      <th>given_name</th>\n",
       "      <th>surname</th>\n",
       "      <th>street_number</th>\n",
       "      <th>address_1</th>\n",
       "      <th>suburb</th>\n",
       "      <th>postcode</th>\n",
       "      <th>state</th>\n",
       "      <th>date_of_birth</th>\n",
       "      <th>age</th>\n",
       "      <th>phone_number</th>\n",
       "      <th>address_2</th>\n",
       "      <th>pcr</th>\n",
       "    </tr>\n",
       "  </thead>\n",
       "  <tbody>\n",
       "    <tr>\n",
       "      <th>1658</th>\n",
       "      <td>328071</td>\n",
       "      <td>olivia</td>\n",
       "      <td>stephenson</td>\n",
       "      <td>28</td>\n",
       "      <td>finey close</td>\n",
       "      <td>sale</td>\n",
       "      <td>5307</td>\n",
       "      <td>vic</td>\n",
       "      <td>19310708</td>\n",
       "      <td>23</td>\n",
       "      <td>07 71969783</td>\n",
       "      <td>gunnedoo</td>\n",
       "      <td>Positive</td>\n",
       "    </tr>\n",
       "    <tr>\n",
       "      <th>1658</th>\n",
       "      <td>328071</td>\n",
       "      <td>olivia</td>\n",
       "      <td>stephenson</td>\n",
       "      <td>28</td>\n",
       "      <td>finey close</td>\n",
       "      <td>sale</td>\n",
       "      <td>5307</td>\n",
       "      <td>vic</td>\n",
       "      <td>19310708</td>\n",
       "      <td>23</td>\n",
       "      <td>07 71969783</td>\n",
       "      <td>gunnedoo</td>\n",
       "      <td>Positive</td>\n",
       "    </tr>\n",
       "    <tr>\n",
       "      <th>2475</th>\n",
       "      <td>328071</td>\n",
       "      <td>matthew</td>\n",
       "      <td>wardle</td>\n",
       "      <td>39</td>\n",
       "      <td>proserpine court</td>\n",
       "      <td>north bondi</td>\n",
       "      <td>4567</td>\n",
       "      <td>vic</td>\n",
       "      <td>19830929</td>\n",
       "      <td>31</td>\n",
       "      <td>04 49762183</td>\n",
       "      <td>rosetta village</td>\n",
       "      <td>Positive</td>\n",
       "    </tr>\n",
       "    <tr>\n",
       "      <th>2475</th>\n",
       "      <td>328071</td>\n",
       "      <td>matthew</td>\n",
       "      <td>wardle</td>\n",
       "      <td>39</td>\n",
       "      <td>proserpine court</td>\n",
       "      <td>north bondi</td>\n",
       "      <td>4567</td>\n",
       "      <td>vic</td>\n",
       "      <td>19830929</td>\n",
       "      <td>31</td>\n",
       "      <td>04 49762183</td>\n",
       "      <td>rosetta village</td>\n",
       "      <td>Positive</td>\n",
       "    </tr>\n",
       "  </tbody>\n",
       "</table>\n",
       "</div>"
      ],
      "text/plain": [
       "      patient_id given_name     surname  street_number         address_1  \\\n",
       "1658      328071     olivia  stephenson             28       finey close   \n",
       "1658      328071     olivia  stephenson             28       finey close   \n",
       "2475      328071    matthew      wardle             39  proserpine court   \n",
       "2475      328071    matthew      wardle             39  proserpine court   \n",
       "\n",
       "           suburb  postcode state  date_of_birth  age phone_number  \\\n",
       "1658         sale      5307   vic       19310708   23  07 71969783   \n",
       "1658         sale      5307   vic       19310708   23  07 71969783   \n",
       "2475  north bondi      4567   vic       19830929   31  04 49762183   \n",
       "2475  north bondi      4567   vic       19830929   31  04 49762183   \n",
       "\n",
       "            address_2       pcr  \n",
       "1658         gunnedoo  Positive  \n",
       "1658         gunnedoo  Positive  \n",
       "2475  rosetta village  Positive  \n",
       "2475  rosetta village  Positive  "
      ]
     },
     "execution_count": 144,
     "metadata": {},
     "output_type": "execute_result"
    }
   ],
   "source": [
    "df[df['patient_id']==328071]"
   ]
  },
  {
   "cell_type": "markdown",
   "metadata": {},
   "source": [
    "On observe que 'patient_id' n'identifie pas de manière unique chaque ligne de la table, donc il ne signifie pas une contrainte d'unicité."
   ]
  },
  {
   "cell_type": "code",
   "execution_count": 145,
   "metadata": {},
   "outputs": [
    {
     "data": {
      "text/html": [
       "<div>\n",
       "<style scoped>\n",
       "    .dataframe tbody tr th:only-of-type {\n",
       "        vertical-align: middle;\n",
       "    }\n",
       "\n",
       "    .dataframe tbody tr th {\n",
       "        vertical-align: top;\n",
       "    }\n",
       "\n",
       "    .dataframe thead th {\n",
       "        text-align: right;\n",
       "    }\n",
       "</style>\n",
       "<table border=\"1\" class=\"dataframe\">\n",
       "  <thead>\n",
       "    <tr style=\"text-align: right;\">\n",
       "      <th></th>\n",
       "      <th>patient_id</th>\n",
       "      <th>count</th>\n",
       "    </tr>\n",
       "  </thead>\n",
       "  <tbody>\n",
       "    <tr>\n",
       "      <th>11</th>\n",
       "      <td>02 03546747</td>\n",
       "      <td>2</td>\n",
       "    </tr>\n",
       "    <tr>\n",
       "      <th>23</th>\n",
       "      <td>02 07634312</td>\n",
       "      <td>2</td>\n",
       "    </tr>\n",
       "    <tr>\n",
       "      <th>33</th>\n",
       "      <td>02 11484426</td>\n",
       "      <td>2</td>\n",
       "    </tr>\n",
       "    <tr>\n",
       "      <th>94</th>\n",
       "      <td>02 30368694</td>\n",
       "      <td>2</td>\n",
       "    </tr>\n",
       "    <tr>\n",
       "      <th>118</th>\n",
       "      <td>02 37249432</td>\n",
       "      <td>2</td>\n",
       "    </tr>\n",
       "  </tbody>\n",
       "</table>\n",
       "</div>"
      ],
      "text/plain": [
       "      patient_id  count\n",
       "11   02 03546747      2\n",
       "23   02 07634312      2\n",
       "33   02 11484426      2\n",
       "94   02 30368694      2\n",
       "118  02 37249432      2"
      ]
     },
     "execution_count": 145,
     "metadata": {},
     "output_type": "execute_result"
    }
   ],
   "source": [
    "# Listing duplicated \"phone_number\"\n",
    "test_phone=df.pivot_table(index = ['phone_number'], aggfunc ='size').reset_index()\n",
    "test_phone.columns=['patient_id','count']\n",
    "test_phone[test_phone['count']>1].head()"
   ]
  },
  {
   "cell_type": "code",
   "execution_count": 146,
   "metadata": {},
   "outputs": [
    {
     "data": {
      "text/html": [
       "<div>\n",
       "<style scoped>\n",
       "    .dataframe tbody tr th:only-of-type {\n",
       "        vertical-align: middle;\n",
       "    }\n",
       "\n",
       "    .dataframe tbody tr th {\n",
       "        vertical-align: top;\n",
       "    }\n",
       "\n",
       "    .dataframe thead th {\n",
       "        text-align: right;\n",
       "    }\n",
       "</style>\n",
       "<table border=\"1\" class=\"dataframe\">\n",
       "  <thead>\n",
       "    <tr style=\"text-align: right;\">\n",
       "      <th></th>\n",
       "      <th>patient_id</th>\n",
       "      <th>count</th>\n",
       "    </tr>\n",
       "  </thead>\n",
       "  <tbody>\n",
       "    <tr>\n",
       "      <th>179</th>\n",
       "      <td>02 54377445</td>\n",
       "      <td>4</td>\n",
       "    </tr>\n",
       "  </tbody>\n",
       "</table>\n",
       "</div>"
      ],
      "text/plain": [
       "      patient_id  count\n",
       "179  02 54377445      4"
      ]
     },
     "execution_count": 146,
     "metadata": {},
     "output_type": "execute_result"
    }
   ],
   "source": [
    "test_phone[test_phone['count']>3].head()"
   ]
  },
  {
   "cell_type": "code",
   "execution_count": 147,
   "metadata": {},
   "outputs": [
    {
     "data": {
      "text/html": [
       "<div>\n",
       "<style scoped>\n",
       "    .dataframe tbody tr th:only-of-type {\n",
       "        vertical-align: middle;\n",
       "    }\n",
       "\n",
       "    .dataframe tbody tr th {\n",
       "        vertical-align: top;\n",
       "    }\n",
       "\n",
       "    .dataframe thead th {\n",
       "        text-align: right;\n",
       "    }\n",
       "</style>\n",
       "<table border=\"1\" class=\"dataframe\">\n",
       "  <thead>\n",
       "    <tr style=\"text-align: right;\">\n",
       "      <th></th>\n",
       "      <th>patient_id</th>\n",
       "      <th>given_name</th>\n",
       "      <th>surname</th>\n",
       "      <th>street_number</th>\n",
       "      <th>address_1</th>\n",
       "      <th>suburb</th>\n",
       "      <th>postcode</th>\n",
       "      <th>state</th>\n",
       "      <th>date_of_birth</th>\n",
       "      <th>age</th>\n",
       "      <th>phone_number</th>\n",
       "      <th>address_2</th>\n",
       "      <th>pcr</th>\n",
       "    </tr>\n",
       "  </thead>\n",
       "  <tbody>\n",
       "    <tr>\n",
       "      <th>1485</th>\n",
       "      <td>924690</td>\n",
       "      <td>giuliana</td>\n",
       "      <td>robsgn</td>\n",
       "      <td>12</td>\n",
       "      <td>federal zighway</td>\n",
       "      <td>dandenong north</td>\n",
       "      <td>2165</td>\n",
       "      <td>qld</td>\n",
       "      <td>19801228</td>\n",
       "      <td>32</td>\n",
       "      <td>02 54377445</td>\n",
       "      <td>marungi park</td>\n",
       "      <td>Negative</td>\n",
       "    </tr>\n",
       "    <tr>\n",
       "      <th>12274</th>\n",
       "      <td>158601</td>\n",
       "      <td>giulina</td>\n",
       "      <td>robson</td>\n",
       "      <td>13</td>\n",
       "      <td>federal iqhway</td>\n",
       "      <td>dandenong north</td>\n",
       "      <td>2165</td>\n",
       "      <td>qld</td>\n",
       "      <td>19801228</td>\n",
       "      <td>32</td>\n",
       "      <td>02 54377445</td>\n",
       "      <td>marungi park</td>\n",
       "      <td>Negative</td>\n",
       "    </tr>\n",
       "    <tr>\n",
       "      <th>13306</th>\n",
       "      <td>301587</td>\n",
       "      <td>giuliana</td>\n",
       "      <td>robson</td>\n",
       "      <td>13</td>\n",
       "      <td>federal highway</td>\n",
       "      <td>dandenong north</td>\n",
       "      <td>2165</td>\n",
       "      <td>qld</td>\n",
       "      <td>19801228</td>\n",
       "      <td>32</td>\n",
       "      <td>02 54377445</td>\n",
       "      <td>marungi park</td>\n",
       "      <td>Negative</td>\n",
       "    </tr>\n",
       "    <tr>\n",
       "      <th>13406</th>\n",
       "      <td>233964</td>\n",
       "      <td>giuliaaa</td>\n",
       "      <td>robson</td>\n",
       "      <td>13</td>\n",
       "      <td>federal highway</td>\n",
       "      <td>dandenong north</td>\n",
       "      <td>2165</td>\n",
       "      <td>qld</td>\n",
       "      <td>19820228</td>\n",
       "      <td>32</td>\n",
       "      <td>02 54377445</td>\n",
       "      <td>marungi park</td>\n",
       "      <td>Positive</td>\n",
       "    </tr>\n",
       "  </tbody>\n",
       "</table>\n",
       "</div>"
      ],
      "text/plain": [
       "       patient_id given_name surname  street_number        address_1  \\\n",
       "1485       924690   giuliana  robsgn             12  federal zighway   \n",
       "12274      158601    giulina  robson             13   federal iqhway   \n",
       "13306      301587   giuliana  robson             13  federal highway   \n",
       "13406      233964   giuliaaa  robson             13  federal highway   \n",
       "\n",
       "                suburb  postcode state  date_of_birth  age phone_number  \\\n",
       "1485   dandenong north      2165   qld       19801228   32  02 54377445   \n",
       "12274  dandenong north      2165   qld       19801228   32  02 54377445   \n",
       "13306  dandenong north      2165   qld       19801228   32  02 54377445   \n",
       "13406  dandenong north      2165   qld       19820228   32  02 54377445   \n",
       "\n",
       "          address_2       pcr  \n",
       "1485   marungi park  Negative  \n",
       "12274  marungi park  Negative  \n",
       "13306  marungi park  Negative  \n",
       "13406  marungi park  Positive  "
      ]
     },
     "execution_count": 147,
     "metadata": {},
     "output_type": "execute_result"
    }
   ],
   "source": [
    "df[df['phone_number']=='02 54377445']"
   ]
  },
  {
   "cell_type": "markdown",
   "metadata": {},
   "source": [
    "On observe que les quatres lignes du resultat sont presque identiques , ce qui signifie que l'attribut 'phone_number' identifie de manière unique chaque ligne de la table, donc il signifie une contrainte d'unicité."
   ]
  },
  {
   "cell_type": "markdown",
   "metadata": {},
   "source": [
    "### 4.  Detecting and removing duplicates"
   ]
  },
  {
   "cell_type": "code",
   "execution_count": 148,
   "metadata": {},
   "outputs": [],
   "source": [
    "# Importing detect duplicates function from inria_assignment\n",
    "from inria_assignment.detect_duplicates import detect_duplicates"
   ]
  },
  {
   "cell_type": "code",
   "execution_count": 149,
   "metadata": {},
   "outputs": [],
   "source": [
    "# Detect duplicates and remove it \n",
    "result=detect_duplicates(df)"
   ]
  },
  {
   "cell_type": "code",
   "execution_count": 150,
   "metadata": {},
   "outputs": [
    {
     "data": {
      "text/html": [
       "<div>\n",
       "<style scoped>\n",
       "    .dataframe tbody tr th:only-of-type {\n",
       "        vertical-align: middle;\n",
       "    }\n",
       "\n",
       "    .dataframe tbody tr th {\n",
       "        vertical-align: top;\n",
       "    }\n",
       "\n",
       "    .dataframe thead th {\n",
       "        text-align: right;\n",
       "    }\n",
       "</style>\n",
       "<table border=\"1\" class=\"dataframe\">\n",
       "  <thead>\n",
       "    <tr style=\"text-align: right;\">\n",
       "      <th></th>\n",
       "      <th>patient_id</th>\n",
       "      <th>name</th>\n",
       "      <th>street_number</th>\n",
       "      <th>address_1</th>\n",
       "      <th>suburb</th>\n",
       "      <th>postcode</th>\n",
       "      <th>state</th>\n",
       "      <th>date_of_birth</th>\n",
       "      <th>age</th>\n",
       "      <th>phone_number</th>\n",
       "      <th>address_2</th>\n",
       "      <th>pcr</th>\n",
       "    </tr>\n",
       "  </thead>\n",
       "  <tbody>\n",
       "    <tr>\n",
       "      <th>0</th>\n",
       "      <td>314601</td>\n",
       "      <td>paterson liam</td>\n",
       "      <td>1</td>\n",
       "      <td>chippindall circuit</td>\n",
       "      <td>chelsea heights</td>\n",
       "      <td>5238</td>\n",
       "      <td>nsw</td>\n",
       "      <td>19420529</td>\n",
       "      <td>28</td>\n",
       "      <td>02 00232845</td>\n",
       "      <td>eagle crest</td>\n",
       "      <td>Positive</td>\n",
       "    </tr>\n",
       "    <tr>\n",
       "      <th>1</th>\n",
       "      <td>623526</td>\n",
       "      <td>lauren schoettke</td>\n",
       "      <td>7</td>\n",
       "      <td>lyall crescent</td>\n",
       "      <td>south brisbane</td>\n",
       "      <td>2518</td>\n",
       "      <td>wa</td>\n",
       "      <td>19360110</td>\n",
       "      <td>23</td>\n",
       "      <td>02 00265282</td>\n",
       "      <td>bayana</td>\n",
       "      <td>Negative</td>\n",
       "    </tr>\n",
       "    <tr>\n",
       "      <th>2</th>\n",
       "      <td>830892</td>\n",
       "      <td>lindholm yasmin</td>\n",
       "      <td>197</td>\n",
       "      <td>marshall street</td>\n",
       "      <td>cecil hills</td>\n",
       "      <td>4010</td>\n",
       "      <td>nsw</td>\n",
       "      <td>19350405</td>\n",
       "      <td>28</td>\n",
       "      <td>02 00277734</td>\n",
       "      <td>brentwood village</td>\n",
       "      <td>Negative</td>\n",
       "    </tr>\n",
       "    <tr>\n",
       "      <th>3</th>\n",
       "      <td>549813</td>\n",
       "      <td>alec dichiera</td>\n",
       "      <td>23</td>\n",
       "      <td>mills street</td>\n",
       "      <td>daw park</td>\n",
       "      <td>4865</td>\n",
       "      <td>nsw</td>\n",
       "      <td>19590818</td>\n",
       "      <td>32</td>\n",
       "      <td>02 00476816</td>\n",
       "      <td>villa 2</td>\n",
       "      <td>Negative</td>\n",
       "    </tr>\n",
       "    <tr>\n",
       "      <th>4</th>\n",
       "      <td>548402</td>\n",
       "      <td>william white</td>\n",
       "      <td>19</td>\n",
       "      <td>sproule circuit</td>\n",
       "      <td>torquay</td>\n",
       "      <td>4034</td>\n",
       "      <td>qld</td>\n",
       "      <td>19670817</td>\n",
       "      <td>27</td>\n",
       "      <td>02 01392154</td>\n",
       "      <td>three springs stud</td>\n",
       "      <td>Negative</td>\n",
       "    </tr>\n",
       "  </tbody>\n",
       "</table>\n",
       "</div>"
      ],
      "text/plain": [
       "   patient_id              name  street_number            address_1  \\\n",
       "0      314601     paterson liam              1  chippindall circuit   \n",
       "1      623526  lauren schoettke              7       lyall crescent   \n",
       "2      830892   lindholm yasmin            197      marshall street   \n",
       "3      549813     alec dichiera             23         mills street   \n",
       "4      548402     william white             19      sproule circuit   \n",
       "\n",
       "            suburb  postcode state  date_of_birth  age phone_number  \\\n",
       "0  chelsea heights      5238   nsw       19420529   28  02 00232845   \n",
       "1   south brisbane      2518    wa       19360110   23  02 00265282   \n",
       "2      cecil hills      4010   nsw       19350405   28  02 00277734   \n",
       "3         daw park      4865   nsw       19590818   32  02 00476816   \n",
       "4          torquay      4034   qld       19670817   27  02 01392154   \n",
       "\n",
       "            address_2       pcr  \n",
       "0         eagle crest  Positive  \n",
       "1              bayana  Negative  \n",
       "2   brentwood village  Negative  \n",
       "3             villa 2  Negative  \n",
       "4  three springs stud  Negative  "
      ]
     },
     "execution_count": 150,
     "metadata": {},
     "output_type": "execute_result"
    }
   ],
   "source": [
    "result.head()"
   ]
  },
  {
   "cell_type": "code",
   "execution_count": 151,
   "metadata": {},
   "outputs": [
    {
     "data": {
      "text/plain": [
       "(1829, 12)"
      ]
     },
     "execution_count": 151,
     "metadata": {},
     "output_type": "execute_result"
    }
   ],
   "source": [
    "result.shape"
   ]
  },
  {
   "cell_type": "code",
   "execution_count": 152,
   "metadata": {},
   "outputs": [],
   "source": [
    "from IPython.core.display import display, HTML\n",
    "def display_side_by_side(dfs:list, captions:list):\n",
    "    \"\"\"Display tables side by side to save vertical space\n",
    "    Input:\n",
    "        dfs: list of pandas.DataFrame\n",
    "        captions: list of table captions\n",
    "    \"\"\"\n",
    "    output = \"\"\n",
    "    combined = dict(zip(captions, dfs))\n",
    "    for caption, df in combined.items():\n",
    "        output += df.style.set_table_attributes(\"style='display:inline'\").set_caption(caption)._repr_html_()\n",
    "        output += \"\\xa0\\xa0\\xa0\"\n",
    "    display(HTML(output))"
   ]
  },
  {
   "cell_type": "code",
   "execution_count": 153,
   "metadata": {},
   "outputs": [
    {
     "data": {
      "text/html": [
       "<style  type=\"text/css\" >\n",
       "</style><table id=\"T_ec0575ee_eabe_11ea_b7b3_acde48001122\" style='display:inline'><caption>before applying detect_duplicates function</caption><thead>    <tr>        <th class=\"blank level0\" ></th>        <th class=\"col_heading level0 col0\" >patient_id</th>        <th class=\"col_heading level0 col1\" >given_name</th>        <th class=\"col_heading level0 col2\" >surname</th>        <th class=\"col_heading level0 col3\" >street_number</th>        <th class=\"col_heading level0 col4\" >address_1</th>        <th class=\"col_heading level0 col5\" >suburb</th>        <th class=\"col_heading level0 col6\" >postcode</th>        <th class=\"col_heading level0 col7\" >state</th>        <th class=\"col_heading level0 col8\" >date_of_birth</th>        <th class=\"col_heading level0 col9\" >age</th>        <th class=\"col_heading level0 col10\" >phone_number</th>        <th class=\"col_heading level0 col11\" >address_2</th>        <th class=\"col_heading level0 col12\" >pcr</th>    </tr></thead><tbody>\n",
       "                <tr>\n",
       "                        <th id=\"T_ec0575ee_eabe_11ea_b7b3_acde48001122level0_row0\" class=\"row_heading level0 row0\" >1485</th>\n",
       "                        <td id=\"T_ec0575ee_eabe_11ea_b7b3_acde48001122row0_col0\" class=\"data row0 col0\" >924690</td>\n",
       "                        <td id=\"T_ec0575ee_eabe_11ea_b7b3_acde48001122row0_col1\" class=\"data row0 col1\" >giuliana</td>\n",
       "                        <td id=\"T_ec0575ee_eabe_11ea_b7b3_acde48001122row0_col2\" class=\"data row0 col2\" >robsgn</td>\n",
       "                        <td id=\"T_ec0575ee_eabe_11ea_b7b3_acde48001122row0_col3\" class=\"data row0 col3\" >12</td>\n",
       "                        <td id=\"T_ec0575ee_eabe_11ea_b7b3_acde48001122row0_col4\" class=\"data row0 col4\" >federal zighway</td>\n",
       "                        <td id=\"T_ec0575ee_eabe_11ea_b7b3_acde48001122row0_col5\" class=\"data row0 col5\" >dandenong north</td>\n",
       "                        <td id=\"T_ec0575ee_eabe_11ea_b7b3_acde48001122row0_col6\" class=\"data row0 col6\" >2165</td>\n",
       "                        <td id=\"T_ec0575ee_eabe_11ea_b7b3_acde48001122row0_col7\" class=\"data row0 col7\" >qld</td>\n",
       "                        <td id=\"T_ec0575ee_eabe_11ea_b7b3_acde48001122row0_col8\" class=\"data row0 col8\" >19801228</td>\n",
       "                        <td id=\"T_ec0575ee_eabe_11ea_b7b3_acde48001122row0_col9\" class=\"data row0 col9\" >32</td>\n",
       "                        <td id=\"T_ec0575ee_eabe_11ea_b7b3_acde48001122row0_col10\" class=\"data row0 col10\" >02 54377445</td>\n",
       "                        <td id=\"T_ec0575ee_eabe_11ea_b7b3_acde48001122row0_col11\" class=\"data row0 col11\" >marungi park</td>\n",
       "                        <td id=\"T_ec0575ee_eabe_11ea_b7b3_acde48001122row0_col12\" class=\"data row0 col12\" >Negative</td>\n",
       "            </tr>\n",
       "            <tr>\n",
       "                        <th id=\"T_ec0575ee_eabe_11ea_b7b3_acde48001122level0_row1\" class=\"row_heading level0 row1\" >12274</th>\n",
       "                        <td id=\"T_ec0575ee_eabe_11ea_b7b3_acde48001122row1_col0\" class=\"data row1 col0\" >158601</td>\n",
       "                        <td id=\"T_ec0575ee_eabe_11ea_b7b3_acde48001122row1_col1\" class=\"data row1 col1\" >giulina</td>\n",
       "                        <td id=\"T_ec0575ee_eabe_11ea_b7b3_acde48001122row1_col2\" class=\"data row1 col2\" >robson</td>\n",
       "                        <td id=\"T_ec0575ee_eabe_11ea_b7b3_acde48001122row1_col3\" class=\"data row1 col3\" >13</td>\n",
       "                        <td id=\"T_ec0575ee_eabe_11ea_b7b3_acde48001122row1_col4\" class=\"data row1 col4\" >federal iqhway</td>\n",
       "                        <td id=\"T_ec0575ee_eabe_11ea_b7b3_acde48001122row1_col5\" class=\"data row1 col5\" >dandenong north</td>\n",
       "                        <td id=\"T_ec0575ee_eabe_11ea_b7b3_acde48001122row1_col6\" class=\"data row1 col6\" >2165</td>\n",
       "                        <td id=\"T_ec0575ee_eabe_11ea_b7b3_acde48001122row1_col7\" class=\"data row1 col7\" >qld</td>\n",
       "                        <td id=\"T_ec0575ee_eabe_11ea_b7b3_acde48001122row1_col8\" class=\"data row1 col8\" >19801228</td>\n",
       "                        <td id=\"T_ec0575ee_eabe_11ea_b7b3_acde48001122row1_col9\" class=\"data row1 col9\" >32</td>\n",
       "                        <td id=\"T_ec0575ee_eabe_11ea_b7b3_acde48001122row1_col10\" class=\"data row1 col10\" >02 54377445</td>\n",
       "                        <td id=\"T_ec0575ee_eabe_11ea_b7b3_acde48001122row1_col11\" class=\"data row1 col11\" >marungi park</td>\n",
       "                        <td id=\"T_ec0575ee_eabe_11ea_b7b3_acde48001122row1_col12\" class=\"data row1 col12\" >Negative</td>\n",
       "            </tr>\n",
       "            <tr>\n",
       "                        <th id=\"T_ec0575ee_eabe_11ea_b7b3_acde48001122level0_row2\" class=\"row_heading level0 row2\" >13306</th>\n",
       "                        <td id=\"T_ec0575ee_eabe_11ea_b7b3_acde48001122row2_col0\" class=\"data row2 col0\" >301587</td>\n",
       "                        <td id=\"T_ec0575ee_eabe_11ea_b7b3_acde48001122row2_col1\" class=\"data row2 col1\" >giuliana</td>\n",
       "                        <td id=\"T_ec0575ee_eabe_11ea_b7b3_acde48001122row2_col2\" class=\"data row2 col2\" >robson</td>\n",
       "                        <td id=\"T_ec0575ee_eabe_11ea_b7b3_acde48001122row2_col3\" class=\"data row2 col3\" >13</td>\n",
       "                        <td id=\"T_ec0575ee_eabe_11ea_b7b3_acde48001122row2_col4\" class=\"data row2 col4\" >federal highway</td>\n",
       "                        <td id=\"T_ec0575ee_eabe_11ea_b7b3_acde48001122row2_col5\" class=\"data row2 col5\" >dandenong north</td>\n",
       "                        <td id=\"T_ec0575ee_eabe_11ea_b7b3_acde48001122row2_col6\" class=\"data row2 col6\" >2165</td>\n",
       "                        <td id=\"T_ec0575ee_eabe_11ea_b7b3_acde48001122row2_col7\" class=\"data row2 col7\" >qld</td>\n",
       "                        <td id=\"T_ec0575ee_eabe_11ea_b7b3_acde48001122row2_col8\" class=\"data row2 col8\" >19801228</td>\n",
       "                        <td id=\"T_ec0575ee_eabe_11ea_b7b3_acde48001122row2_col9\" class=\"data row2 col9\" >32</td>\n",
       "                        <td id=\"T_ec0575ee_eabe_11ea_b7b3_acde48001122row2_col10\" class=\"data row2 col10\" >02 54377445</td>\n",
       "                        <td id=\"T_ec0575ee_eabe_11ea_b7b3_acde48001122row2_col11\" class=\"data row2 col11\" >marungi park</td>\n",
       "                        <td id=\"T_ec0575ee_eabe_11ea_b7b3_acde48001122row2_col12\" class=\"data row2 col12\" >Negative</td>\n",
       "            </tr>\n",
       "            <tr>\n",
       "                        <th id=\"T_ec0575ee_eabe_11ea_b7b3_acde48001122level0_row3\" class=\"row_heading level0 row3\" >13406</th>\n",
       "                        <td id=\"T_ec0575ee_eabe_11ea_b7b3_acde48001122row3_col0\" class=\"data row3 col0\" >233964</td>\n",
       "                        <td id=\"T_ec0575ee_eabe_11ea_b7b3_acde48001122row3_col1\" class=\"data row3 col1\" >giuliaaa</td>\n",
       "                        <td id=\"T_ec0575ee_eabe_11ea_b7b3_acde48001122row3_col2\" class=\"data row3 col2\" >robson</td>\n",
       "                        <td id=\"T_ec0575ee_eabe_11ea_b7b3_acde48001122row3_col3\" class=\"data row3 col3\" >13</td>\n",
       "                        <td id=\"T_ec0575ee_eabe_11ea_b7b3_acde48001122row3_col4\" class=\"data row3 col4\" >federal highway</td>\n",
       "                        <td id=\"T_ec0575ee_eabe_11ea_b7b3_acde48001122row3_col5\" class=\"data row3 col5\" >dandenong north</td>\n",
       "                        <td id=\"T_ec0575ee_eabe_11ea_b7b3_acde48001122row3_col6\" class=\"data row3 col6\" >2165</td>\n",
       "                        <td id=\"T_ec0575ee_eabe_11ea_b7b3_acde48001122row3_col7\" class=\"data row3 col7\" >qld</td>\n",
       "                        <td id=\"T_ec0575ee_eabe_11ea_b7b3_acde48001122row3_col8\" class=\"data row3 col8\" >19820228</td>\n",
       "                        <td id=\"T_ec0575ee_eabe_11ea_b7b3_acde48001122row3_col9\" class=\"data row3 col9\" >32</td>\n",
       "                        <td id=\"T_ec0575ee_eabe_11ea_b7b3_acde48001122row3_col10\" class=\"data row3 col10\" >02 54377445</td>\n",
       "                        <td id=\"T_ec0575ee_eabe_11ea_b7b3_acde48001122row3_col11\" class=\"data row3 col11\" >marungi park</td>\n",
       "                        <td id=\"T_ec0575ee_eabe_11ea_b7b3_acde48001122row3_col12\" class=\"data row3 col12\" >Positive</td>\n",
       "            </tr>\n",
       "    </tbody></table>   <style  type=\"text/css\" >\n",
       "</style><table id=\"T_ec05e420_eabe_11ea_b7b3_acde48001122\" style='display:inline'><caption>after applying detect_duplicates function</caption><thead>    <tr>        <th class=\"blank level0\" ></th>        <th class=\"col_heading level0 col0\" >patient_id</th>        <th class=\"col_heading level0 col1\" >name</th>        <th class=\"col_heading level0 col2\" >street_number</th>        <th class=\"col_heading level0 col3\" >address_1</th>        <th class=\"col_heading level0 col4\" >suburb</th>        <th class=\"col_heading level0 col5\" >postcode</th>        <th class=\"col_heading level0 col6\" >state</th>        <th class=\"col_heading level0 col7\" >date_of_birth</th>        <th class=\"col_heading level0 col8\" >age</th>        <th class=\"col_heading level0 col9\" >phone_number</th>        <th class=\"col_heading level0 col10\" >address_2</th>        <th class=\"col_heading level0 col11\" >pcr</th>    </tr></thead><tbody>\n",
       "                <tr>\n",
       "                        <th id=\"T_ec05e420_eabe_11ea_b7b3_acde48001122level0_row0\" class=\"row_heading level0 row0\" >179</th>\n",
       "                        <td id=\"T_ec05e420_eabe_11ea_b7b3_acde48001122row0_col0\" class=\"data row0 col0\" >158601</td>\n",
       "                        <td id=\"T_ec05e420_eabe_11ea_b7b3_acde48001122row0_col1\" class=\"data row0 col1\" >robson giuliana</td>\n",
       "                        <td id=\"T_ec05e420_eabe_11ea_b7b3_acde48001122row0_col2\" class=\"data row0 col2\" >13</td>\n",
       "                        <td id=\"T_ec05e420_eabe_11ea_b7b3_acde48001122row0_col3\" class=\"data row0 col3\" >federal highway</td>\n",
       "                        <td id=\"T_ec05e420_eabe_11ea_b7b3_acde48001122row0_col4\" class=\"data row0 col4\" >dandenong north</td>\n",
       "                        <td id=\"T_ec05e420_eabe_11ea_b7b3_acde48001122row0_col5\" class=\"data row0 col5\" >2165</td>\n",
       "                        <td id=\"T_ec05e420_eabe_11ea_b7b3_acde48001122row0_col6\" class=\"data row0 col6\" >qld</td>\n",
       "                        <td id=\"T_ec05e420_eabe_11ea_b7b3_acde48001122row0_col7\" class=\"data row0 col7\" >19801228</td>\n",
       "                        <td id=\"T_ec05e420_eabe_11ea_b7b3_acde48001122row0_col8\" class=\"data row0 col8\" >32</td>\n",
       "                        <td id=\"T_ec05e420_eabe_11ea_b7b3_acde48001122row0_col9\" class=\"data row0 col9\" >02 54377445</td>\n",
       "                        <td id=\"T_ec05e420_eabe_11ea_b7b3_acde48001122row0_col10\" class=\"data row0 col10\" >marungi park</td>\n",
       "                        <td id=\"T_ec05e420_eabe_11ea_b7b3_acde48001122row0_col11\" class=\"data row0 col11\" >Negative</td>\n",
       "            </tr>\n",
       "    </tbody></table>   "
      ],
      "text/plain": [
       "<IPython.core.display.HTML object>"
      ]
     },
     "metadata": {},
     "output_type": "display_data"
    }
   ],
   "source": [
    "# Comparing data before and after removing duplicates / case of phone_number = 02 54377445\n",
    "display_side_by_side([df[df['phone_number']=='02 54377445'], result[result['phone_number']=='02 54377445']], ['before applying detect_duplicates function', 'after applying detect_duplicates function'])"
   ]
  },
  {
   "cell_type": "markdown",
   "metadata": {},
   "source": [
    "On observe que pour chaque groupe de meme \"phone_number\" la fonction supprime les doublons et retourne une seule ligne qui contient les informations les plus fréquentes du patient, notamment, les plus fréquentes valeurs pour chaque attribut."
   ]
  },
  {
   "cell_type": "code",
   "execution_count": 154,
   "metadata": {},
   "outputs": [
    {
     "data": {
      "text/html": [
       "<style  type=\"text/css\" >\n",
       "</style><table id=\"T_ec0759f4_eabe_11ea_b7b3_acde48001122\" style='display:inline'><caption>before applying detect_duplicates function</caption><thead>    <tr>        <th class=\"blank level0\" ></th>        <th class=\"col_heading level0 col0\" >patient_id</th>        <th class=\"col_heading level0 col1\" >given_name</th>        <th class=\"col_heading level0 col2\" >surname</th>        <th class=\"col_heading level0 col3\" >street_number</th>        <th class=\"col_heading level0 col4\" >address_1</th>        <th class=\"col_heading level0 col5\" >suburb</th>        <th class=\"col_heading level0 col6\" >postcode</th>        <th class=\"col_heading level0 col7\" >state</th>        <th class=\"col_heading level0 col8\" >date_of_birth</th>        <th class=\"col_heading level0 col9\" >age</th>        <th class=\"col_heading level0 col10\" >phone_number</th>        <th class=\"col_heading level0 col11\" >address_2</th>        <th class=\"col_heading level0 col12\" >pcr</th>    </tr></thead><tbody>\n",
       "                <tr>\n",
       "                        <th id=\"T_ec0759f4_eabe_11ea_b7b3_acde48001122level0_row0\" class=\"row_heading level0 row0\" >15515</th>\n",
       "                        <td id=\"T_ec0759f4_eabe_11ea_b7b3_acde48001122row0_col0\" class=\"data row0 col0\" >515794</td>\n",
       "                        <td id=\"T_ec0759f4_eabe_11ea_b7b3_acde48001122row0_col1\" class=\"data row0 col1\" >christian</td>\n",
       "                        <td id=\"T_ec0759f4_eabe_11ea_b7b3_acde48001122row0_col2\" class=\"data row0 col2\" >tschurpiv</td>\n",
       "                        <td id=\"T_ec0759f4_eabe_11ea_b7b3_acde48001122row0_col3\" class=\"data row0 col3\" >48</td>\n",
       "                        <td id=\"T_ec0759f4_eabe_11ea_b7b3_acde48001122row0_col4\" class=\"data row0 col4\" >morgan crescent</td>\n",
       "                        <td id=\"T_ec0759f4_eabe_11ea_b7b3_acde48001122row0_col5\" class=\"data row0 col5\" >prospect</td>\n",
       "                        <td id=\"T_ec0759f4_eabe_11ea_b7b3_acde48001122row0_col6\" class=\"data row0 col6\" >4551</td>\n",
       "                        <td id=\"T_ec0759f4_eabe_11ea_b7b3_acde48001122row0_col7\" class=\"data row0 col7\" >nsw</td>\n",
       "                        <td id=\"T_ec0759f4_eabe_11ea_b7b3_acde48001122row0_col8\" class=\"data row0 col8\" >19870311</td>\n",
       "                        <td id=\"T_ec0759f4_eabe_11ea_b7b3_acde48001122row0_col9\" class=\"data row0 col9\" >28</td>\n",
       "                        <td id=\"T_ec0759f4_eabe_11ea_b7b3_acde48001122row0_col10\" class=\"data row0 col10\" >02 55240707</td>\n",
       "                        <td id=\"T_ec0759f4_eabe_11ea_b7b3_acde48001122row0_col11\" class=\"data row0 col11\" >mt butler tsreet</td>\n",
       "                        <td id=\"T_ec0759f4_eabe_11ea_b7b3_acde48001122row0_col12\" class=\"data row0 col12\" >Negative</td>\n",
       "            </tr>\n",
       "            <tr>\n",
       "                        <th id=\"T_ec0759f4_eabe_11ea_b7b3_acde48001122level0_row1\" class=\"row_heading level0 row1\" >17845</th>\n",
       "                        <td id=\"T_ec0759f4_eabe_11ea_b7b3_acde48001122row1_col0\" class=\"data row1 col0\" >564674</td>\n",
       "                        <td id=\"T_ec0759f4_eabe_11ea_b7b3_acde48001122row1_col1\" class=\"data row1 col1\" >christian</td>\n",
       "                        <td id=\"T_ec0759f4_eabe_11ea_b7b3_acde48001122row1_col2\" class=\"data row1 col2\" >tschirpig</td>\n",
       "                        <td id=\"T_ec0759f4_eabe_11ea_b7b3_acde48001122row1_col3\" class=\"data row1 col3\" >48</td>\n",
       "                        <td id=\"T_ec0759f4_eabe_11ea_b7b3_acde48001122row1_col4\" class=\"data row1 col4\" >morgan crescent</td>\n",
       "                        <td id=\"T_ec0759f4_eabe_11ea_b7b3_acde48001122row1_col5\" class=\"data row1 col5\" >prospect</td>\n",
       "                        <td id=\"T_ec0759f4_eabe_11ea_b7b3_acde48001122row1_col6\" class=\"data row1 col6\" >4551</td>\n",
       "                        <td id=\"T_ec0759f4_eabe_11ea_b7b3_acde48001122row1_col7\" class=\"data row1 col7\" >nsw</td>\n",
       "                        <td id=\"T_ec0759f4_eabe_11ea_b7b3_acde48001122row1_col8\" class=\"data row1 col8\" >19870311</td>\n",
       "                        <td id=\"T_ec0759f4_eabe_11ea_b7b3_acde48001122row1_col9\" class=\"data row1 col9\" >28</td>\n",
       "                        <td id=\"T_ec0759f4_eabe_11ea_b7b3_acde48001122row1_col10\" class=\"data row1 col10\" >02 55240707</td>\n",
       "                        <td id=\"T_ec0759f4_eabe_11ea_b7b3_acde48001122row1_col11\" class=\"data row1 col11\" >mt butler street</td>\n",
       "                        <td id=\"T_ec0759f4_eabe_11ea_b7b3_acde48001122row1_col12\" class=\"data row1 col12\" >Negative</td>\n",
       "            </tr>\n",
       "            <tr>\n",
       "                        <th id=\"T_ec0759f4_eabe_11ea_b7b3_acde48001122level0_row2\" class=\"row_heading level0 row2\" >18054</th>\n",
       "                        <td id=\"T_ec0759f4_eabe_11ea_b7b3_acde48001122row2_col0\" class=\"data row2 col0\" >495991</td>\n",
       "                        <td id=\"T_ec0759f4_eabe_11ea_b7b3_acde48001122row2_col1\" class=\"data row2 col1\" >tschirpig</td>\n",
       "                        <td id=\"T_ec0759f4_eabe_11ea_b7b3_acde48001122row2_col2\" class=\"data row2 col2\" >christian</td>\n",
       "                        <td id=\"T_ec0759f4_eabe_11ea_b7b3_acde48001122row2_col3\" class=\"data row2 col3\" >48</td>\n",
       "                        <td id=\"T_ec0759f4_eabe_11ea_b7b3_acde48001122row2_col4\" class=\"data row2 col4\" >morgan crescent</td>\n",
       "                        <td id=\"T_ec0759f4_eabe_11ea_b7b3_acde48001122row2_col5\" class=\"data row2 col5\" >prospect</td>\n",
       "                        <td id=\"T_ec0759f4_eabe_11ea_b7b3_acde48001122row2_col6\" class=\"data row2 col6\" >4551</td>\n",
       "                        <td id=\"T_ec0759f4_eabe_11ea_b7b3_acde48001122row2_col7\" class=\"data row2 col7\" >nsw</td>\n",
       "                        <td id=\"T_ec0759f4_eabe_11ea_b7b3_acde48001122row2_col8\" class=\"data row2 col8\" >19870311</td>\n",
       "                        <td id=\"T_ec0759f4_eabe_11ea_b7b3_acde48001122row2_col9\" class=\"data row2 col9\" >28</td>\n",
       "                        <td id=\"T_ec0759f4_eabe_11ea_b7b3_acde48001122row2_col10\" class=\"data row2 col10\" >02 55240707</td>\n",
       "                        <td id=\"T_ec0759f4_eabe_11ea_b7b3_acde48001122row2_col11\" class=\"data row2 col11\" >mt butler street</td>\n",
       "                        <td id=\"T_ec0759f4_eabe_11ea_b7b3_acde48001122row2_col12\" class=\"data row2 col12\" >Positive</td>\n",
       "            </tr>\n",
       "    </tbody></table>   <style  type=\"text/css\" >\n",
       "</style><table id=\"T_ec07c678_eabe_11ea_b7b3_acde48001122\" style='display:inline'><caption>after applying detect_duplicates function</caption><thead>    <tr>        <th class=\"blank level0\" ></th>        <th class=\"col_heading level0 col0\" >patient_id</th>        <th class=\"col_heading level0 col1\" >name</th>        <th class=\"col_heading level0 col2\" >street_number</th>        <th class=\"col_heading level0 col3\" >address_1</th>        <th class=\"col_heading level0 col4\" >suburb</th>        <th class=\"col_heading level0 col5\" >postcode</th>        <th class=\"col_heading level0 col6\" >state</th>        <th class=\"col_heading level0 col7\" >date_of_birth</th>        <th class=\"col_heading level0 col8\" >age</th>        <th class=\"col_heading level0 col9\" >phone_number</th>        <th class=\"col_heading level0 col10\" >address_2</th>        <th class=\"col_heading level0 col11\" >pcr</th>    </tr></thead><tbody>\n",
       "                <tr>\n",
       "                        <th id=\"T_ec07c678_eabe_11ea_b7b3_acde48001122level0_row0\" class=\"row_heading level0 row0\" >182</th>\n",
       "                        <td id=\"T_ec07c678_eabe_11ea_b7b3_acde48001122row0_col0\" class=\"data row0 col0\" >495991</td>\n",
       "                        <td id=\"T_ec07c678_eabe_11ea_b7b3_acde48001122row0_col1\" class=\"data row0 col1\" >christian tschirpig</td>\n",
       "                        <td id=\"T_ec07c678_eabe_11ea_b7b3_acde48001122row0_col2\" class=\"data row0 col2\" >48</td>\n",
       "                        <td id=\"T_ec07c678_eabe_11ea_b7b3_acde48001122row0_col3\" class=\"data row0 col3\" >morgan crescent</td>\n",
       "                        <td id=\"T_ec07c678_eabe_11ea_b7b3_acde48001122row0_col4\" class=\"data row0 col4\" >prospect</td>\n",
       "                        <td id=\"T_ec07c678_eabe_11ea_b7b3_acde48001122row0_col5\" class=\"data row0 col5\" >4551</td>\n",
       "                        <td id=\"T_ec07c678_eabe_11ea_b7b3_acde48001122row0_col6\" class=\"data row0 col6\" >nsw</td>\n",
       "                        <td id=\"T_ec07c678_eabe_11ea_b7b3_acde48001122row0_col7\" class=\"data row0 col7\" >19870311</td>\n",
       "                        <td id=\"T_ec07c678_eabe_11ea_b7b3_acde48001122row0_col8\" class=\"data row0 col8\" >28</td>\n",
       "                        <td id=\"T_ec07c678_eabe_11ea_b7b3_acde48001122row0_col9\" class=\"data row0 col9\" >02 55240707</td>\n",
       "                        <td id=\"T_ec07c678_eabe_11ea_b7b3_acde48001122row0_col10\" class=\"data row0 col10\" >mt butler street</td>\n",
       "                        <td id=\"T_ec07c678_eabe_11ea_b7b3_acde48001122row0_col11\" class=\"data row0 col11\" >Negative</td>\n",
       "            </tr>\n",
       "    </tbody></table>   "
      ],
      "text/plain": [
       "<IPython.core.display.HTML object>"
      ]
     },
     "metadata": {},
     "output_type": "display_data"
    }
   ],
   "source": [
    "# Comparing data before and after removing duplicates / case of phone_number = 02 55240707\n",
    "display_side_by_side([df[df['phone_number']=='02 55240707'], result[result['phone_number']=='02 55240707']], ['before applying detect_duplicates function', 'after applying detect_duplicates function'])"
   ]
  },
  {
   "cell_type": "markdown",
   "metadata": {},
   "source": [
    "On observe que la fonction peut aussi gérer les cas ou le given_name et le surname du patient sont inversés, et retourne une seule ligne qui contient les informations les plus fréquentes du patient."
   ]
  },
  {
   "cell_type": "markdown",
   "metadata": {},
   "source": [
    "##  Visualisation"
   ]
  },
  {
   "cell_type": "code",
   "execution_count": 155,
   "metadata": {},
   "outputs": [
    {
     "data": {
      "image/png": "[encoded data removed]",
      "text/plain": [
       "<Figure size 720x432 with 1 Axes>"
      ]
     },
     "metadata": {},
     "output_type": "display_data"
    }
   ],
   "source": [
    "#Plotting the percentage of postive and negative cases\n",
    "plt.figure(figsize = (10,6))\n",
    "\n",
    "plt.rcParams['axes.titlesize'] = 20\n",
    "plt.rcParams['axes.labelsize'] = 16\n",
    "plt.rcParams['axes.titlesize'] = 16\n",
    "\n",
    "five_thirty_eight = [\n",
    "    '#30a2da',\n",
    "    '#fc4f30',\n",
    "    '#e5ae38',\n",
    "    '#6d904f',\n",
    "    '#8b8b8b',\n",
    "]\n",
    "\n",
    "sns.set_palette(sns.color_palette(five_thirty_eight))\n",
    "\n",
    "total = float(len(result))\n",
    "#results = ['Negative', 'Positive']  \n",
    "ax = sns.countplot(x='pcr', data=result)\n",
    "#ax.set_xticklabels(results)\n",
    "\n",
    "# add percentages above each bar\n",
    "for p in ax.patches:\n",
    "    height = p.get_height()\n",
    "    ax.text(p.get_x() + p.get_width()/2.,\n",
    "            p.get_height(),\n",
    "            '{:1.2f}'.format(height/total),\n",
    "            ha='center')\n",
    "    \n",
    "plt.title('Incidence of COVID-19 ', fontsize=20)\n",
    "plt.xlabel('Result')\n",
    "plt.ylabel('Patients')\n",
    "sns.set(style='ticks')\n",
    "sns.despine()"
   ]
  },
  {
   "cell_type": "markdown",
   "metadata": {},
   "source": [
    "On observe que les cas positives constituent 24% des patients,quand les cas negatives constituent 76% des patients"
   ]
  },
  {
   "cell_type": "code",
   "execution_count": 156,
   "metadata": {},
   "outputs": [
    {
     "data": {
      "text/plain": [
       "<seaborn.axisgrid.FacetGrid at 0x13323ac90>"
      ]
     },
     "execution_count": 156,
     "metadata": {},
     "output_type": "execute_result"
    },
    {
     "data": {
      "image/png": "[encoded data removed]",
      "text/plain": [
       "<Figure size 432x216 with 2 Axes>"
      ]
     },
     "metadata": {},
     "output_type": "display_data"
    }
   ],
   "source": [
    "# Plotting the distribution of cases by age\n",
    "g = sns.FacetGrid(result, col='pcr')\n",
    "g.map(plt.hist, 'age', bins=30)"
   ]
  },
  {
   "cell_type": "markdown",
   "metadata": {},
   "source": [
    "On observe que l'intervale d'age pour les deux cas varie entre 8 ans et 45 ans, ainsi que les gens les plus testés sont les jeunes de trentaine."
   ]
  },
  {
   "cell_type": "code",
   "execution_count": 157,
   "metadata": {},
   "outputs": [
    {
     "data": {
      "image/png": "[encoded data removed]",
      "text/plain": [
       "<Figure size 1080x432 with 1 Axes>"
      ]
     },
     "metadata": {},
     "output_type": "display_data"
    }
   ],
   "source": [
    "# Comparing the negative and positive distributions by age\n",
    "result_positive = result.loc[result['pcr'] == 'Negative']\n",
    "result_negative = result.loc[result['pcr'] == 'Positive']\n",
    "\n",
    "five_thirty_eight = [\n",
    "    '#30a2da',\n",
    "    '#fc4f30',\n",
    "    '#e5ae38',\n",
    "    '#6d904f',\n",
    "    '#8b8b8b',\n",
    "]\n",
    "\n",
    "plt.figure(figsize = (15,6))\n",
    "plt.rcParams['axes.titlesize'] = 20\n",
    "plt.rcParams['axes.labelsize'] = 16\n",
    "plt.rcParams['axes.titlesize'] = 16\n",
    "\n",
    "sns.set_palette(sns.color_palette(five_thirty_eight))\n",
    "\n",
    "sns.distplot(result_positive['age'])\n",
    "sns.distplot(result_negative['age'])\n",
    "\n",
    "sns.set(style='ticks')\n",
    "sns.despine()"
   ]
  },
  {
   "cell_type": "code",
   "execution_count": 158,
   "metadata": {},
   "outputs": [
    {
     "data": {
      "text/plain": [
       "Text(0.5, 1.0, 'Negative case by state')"
      ]
     },
     "execution_count": 158,
     "metadata": {},
     "output_type": "execute_result"
    },
    {
     "data": {
      "image/png": "[encoded data removed]",
      "text/plain": [
       "<Figure size 360x360 with 1 Axes>"
      ]
     },
     "metadata": {},
     "output_type": "display_data"
    }
   ],
   "source": [
    "# Plotting the distribution of negative cases by state\n",
    "sns.catplot(x=\"state\", kind=\"count\", palette=\"ch:.25\", data=result[result['pcr']=='Negative'])\n",
    "plt.title('Negative case by state')"
   ]
  },
  {
   "cell_type": "code",
   "execution_count": 159,
   "metadata": {},
   "outputs": [
    {
     "data": {
      "text/plain": [
       "Text(0.5, 1.0, 'Positive case by state')"
      ]
     },
     "execution_count": 159,
     "metadata": {},
     "output_type": "execute_result"
    },
    {
     "data": {
      "image/png": "[encoded data removed]",
      "text/plain": [
       "<Figure size 360x360 with 1 Axes>"
      ]
     },
     "metadata": {},
     "output_type": "display_data"
    }
   ],
   "source": [
    "# Plotting the distribution of positive cases by state\n",
    "sns.catplot(x=\"state\", kind=\"count\", palette=\"ch:.25\", data=result[result['pcr']=='Positive']);\n",
    "plt.title('Positive case by state')"
   ]
  },
  {
   "cell_type": "code",
   "execution_count": 160,
   "metadata": {},
   "outputs": [
    {
     "data": {
      "text/plain": [
       "Text(0.5, 1.0, 'Positive case by state')"
      ]
     },
     "execution_count": 160,
     "metadata": {},
     "output_type": "execute_result"
    },
    {
     "data": {
      "image/png": "[encoded data removed]",
      "text/plain": [
       "<Figure size 1440x576 with 1 Axes>"
      ]
     },
     "metadata": {},
     "output_type": "display_data"
    }
   ],
   "source": [
    "# Plotting the distribution of positive cases by state and ordered\n",
    "result[result['pcr']=='Positive']['state'].value_counts().plot(kind='barh',figsize=(20,8)).set_title(\"Positive case by state\")"
   ]
  },
  {
   "cell_type": "markdown",
   "metadata": {},
   "source": [
    "On observe que les cas positives sont plus elevés dans les states nsw, vic et qld, quand les autres states connaissent un nombre abaissé"
   ]
  },
  {
   "cell_type": "code",
   "execution_count": 161,
   "metadata": {},
   "outputs": [
    {
     "data": {
      "text/plain": [
       "Text(0.5, 1.0, 'Negative case by state')"
      ]
     },
     "execution_count": 161,
     "metadata": {},
     "output_type": "execute_result"
    },
    {
     "data": {
      "image/png": "[encoded data removed]",
      "text/plain": [
       "<Figure size 432x288 with 1 Axes>"
      ]
     },
     "metadata": {},
     "output_type": "display_data"
    }
   ],
   "source": [
    "# Plotting the distribution of negative cases by state and ordered\n",
    "result[result['pcr']=='Negative']['state'].value_counts().plot(kind='barh').set_title(\"Negative case by state\")"
   ]
  },
  {
   "cell_type": "code",
   "execution_count": 162,
   "metadata": {},
   "outputs": [
    {
     "data": {
      "text/plain": [
       "<matplotlib.axes._subplots.AxesSubplot at 0x13366e5d0>"
      ]
     },
     "execution_count": 162,
     "metadata": {},
     "output_type": "execute_result"
    },
    {
     "data": {
      "image/png": "[encoded data removed]",
      "text/plain": [
       "<Figure size 432x288 with 1 Axes>"
      ]
     },
     "metadata": {},
     "output_type": "display_data"
    }
   ],
   "source": [
    "# Comparing negative case with positive case\n",
    "x, y, hue = \"state\", \"proportion\", \"pcr\"\n",
    "hue_order = [\"negative\", \"positive\"]\n",
    "\n",
    "(result[x]\n",
    " .groupby(result[hue])\n",
    " .value_counts()\n",
    " .rename(y)\n",
    " .reset_index()\n",
    " .pipe((sns.barplot, \"data\"), x=x, y=y, hue=hue))\n",
    "\n"
   ]
  },
  {
   "cell_type": "code",
   "execution_count": null,
   "metadata": {},
   "outputs": [],
   "source": [
    "\n"
   ]
  },
  {
   "cell_type": "code",
   "execution_count": null,
   "metadata": {},
   "outputs": [],
   "source": []
  },
  {
   "cell_type": "code",
   "execution_count": null,
   "metadata": {},
   "outputs": [],
   "source": []
  },
  {
   "cell_type": "code",
   "execution_count": null,
   "metadata": {},
   "outputs": [],
   "source": []
  },
  {
   "cell_type": "code",
   "execution_count": null,
   "metadata": {},
   "outputs": [],
   "source": []
  },
  {
   "cell_type": "code",
   "execution_count": null,
   "metadata": {},
   "outputs": [],
   "source": []
  },
  {
   "cell_type": "code",
   "execution_count": null,
   "metadata": {},
   "outputs": [],
   "source": []
  }
 ],
 "metadata": {
  "kernelspec": {
   "display_name": "Python 3",
   "language": "python",
   "name": "python3"
  },
  "language_info": {
   "codemirror_mode": {
    "name": "ipython",
    "version": 3
   },
   "file_extension": ".py",
   "mimetype": "text/x-python",
   "name": "python",
   "nbconvert_exporter": "python",
   "pygments_lexer": "ipython3",
   "version": "3.7.4"
  }
 },
 "nbformat": 4,
 "nbformat_minor": 4
}
